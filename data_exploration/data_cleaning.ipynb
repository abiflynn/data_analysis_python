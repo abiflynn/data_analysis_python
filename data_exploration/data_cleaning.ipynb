{
  "nbformat": 4,
  "nbformat_minor": 0,
  "metadata": {
    "colab": {
      "provenance": [],
      "include_colab_link": true
    },
    "kernelspec": {
      "name": "python3",
      "display_name": "Python 3"
    },
    "language_info": {
      "name": "python"
    }
  },
  "cells": [
    {
      "cell_type": "markdown",
      "metadata": {
        "id": "view-in-github",
        "colab_type": "text"
      },
      "source": [
        "<a href=\"https://colab.research.google.com/github/abiflynn/data_analysis_python/blob/main/data_exploration/data_cleaning.ipynb\" target=\"_parent\"><img src=\"https://colab.research.google.com/assets/colab-badge.svg\" alt=\"Open In Colab\"/></a>"
      ]
    },
    {
      "cell_type": "markdown",
      "source": [
        "# Data Cleaning with Pandas\n"
      ],
      "metadata": {
        "id": "kYo4UvcCvkUs"
      }
    },
    {
      "cell_type": "code",
      "execution_count": 1,
      "metadata": {
        "id": "FgRIdUs1vcZ8"
      },
      "outputs": [],
      "source": [
        "import pandas as pd"
      ]
    },
    {
      "cell_type": "code",
      "source": [
        "# orders.csv\n",
        "url = \"https://drive.google.com/file/d/1Vu0q91qZw6lqhIqbjoXYvYAQTmVHh6uZ/view?usp=sharing\" \n",
        "path = \"https://drive.google.com/uc?export=download&id=\"+url.split(\"/\")[-2]\n",
        "orders = pd.read_csv(path)\n",
        "\n",
        "# orderlines.csv\n",
        "url = \"https://drive.google.com/file/d/1FYhN_2AzTBFuWcfHaRuKcuCE6CWXsWtG/view?usp=sharing\" \n",
        "path = \"https://drive.google.com/uc?export=download&id=\"+url.split(\"/\")[-2]\n",
        "orderlines = pd.read_csv(path)"
      ],
      "metadata": {
        "id": "_87JoNgVviOG"
      },
      "execution_count": 2,
      "outputs": []
    },
    {
      "cell_type": "markdown",
      "source": [
        "## 1.&nbsp; Duplicates"
      ],
      "metadata": {
        "id": "036ciQ6rwBJm"
      }
    },
    {
      "cell_type": "code",
      "source": [
        "# orders\n",
        "orders.duplicated().sum()"
      ],
      "metadata": {
        "colab": {
          "base_uri": "https://localhost:8080/"
        },
        "id": "6dVkoUu7wC-b",
        "outputId": "b9b021e3-37f7-4d13-f1ca-f1eee8096bd6"
      },
      "execution_count": 3,
      "outputs": [
        {
          "output_type": "execute_result",
          "data": {
            "text/plain": [
              "0"
            ]
          },
          "metadata": {},
          "execution_count": 3
        }
      ]
    },
    {
      "cell_type": "code",
      "source": [
        "# orderlines\n",
        "orderlines.duplicated().sum()"
      ],
      "metadata": {
        "colab": {
          "base_uri": "https://localhost:8080/"
        },
        "id": "iaeAQB_3whli",
        "outputId": "e2aee866-55b6-4615-977d-04a04d2f7024"
      },
      "execution_count": 4,
      "outputs": [
        {
          "output_type": "execute_result",
          "data": {
            "text/plain": [
              "0"
            ]
          },
          "metadata": {},
          "execution_count": 4
        }
      ]
    },
    {
      "cell_type": "markdown",
      "source": [
        "# 2.&nbsp; `.info()`"
      ],
      "metadata": {
        "id": "9lX7YbHlzoEO"
      }
    },
    {
      "cell_type": "code",
      "source": [
        "orders.info()"
      ],
      "metadata": {
        "colab": {
          "base_uri": "https://localhost:8080/"
        },
        "id": "_AAsMOTS2L9r",
        "outputId": "86ccbf3f-7e86-4a41-c027-62654266c150"
      },
      "execution_count": 5,
      "outputs": [
        {
          "output_type": "stream",
          "name": "stdout",
          "text": [
            "<class 'pandas.core.frame.DataFrame'>\n",
            "RangeIndex: 226909 entries, 0 to 226908\n",
            "Data columns (total 4 columns):\n",
            " #   Column        Non-Null Count   Dtype  \n",
            "---  ------        --------------   -----  \n",
            " 0   order_id      226909 non-null  int64  \n",
            " 1   created_date  226909 non-null  object \n",
            " 2   total_paid    226904 non-null  float64\n",
            " 3   state         226909 non-null  object \n",
            "dtypes: float64(1), int64(1), object(2)\n",
            "memory usage: 6.9+ MB\n"
          ]
        }
      ]
    },
    {
      "cell_type": "markdown",
      "source": [
        "* `total_paid` has 5 missing values\n",
        "* `created_date` should become datetime datatype"
      ],
      "metadata": {
        "id": "Txm3Bv952UCb"
      }
    },
    {
      "cell_type": "code",
      "source": [
        "orderlines.info()"
      ],
      "metadata": {
        "colab": {
          "base_uri": "https://localhost:8080/"
        },
        "id": "kvDA-z032Rm2",
        "outputId": "9ba9afa3-2568-41e9-e14b-38c659e8942d"
      },
      "execution_count": 6,
      "outputs": [
        {
          "output_type": "stream",
          "name": "stdout",
          "text": [
            "<class 'pandas.core.frame.DataFrame'>\n",
            "RangeIndex: 293983 entries, 0 to 293982\n",
            "Data columns (total 7 columns):\n",
            " #   Column            Non-Null Count   Dtype \n",
            "---  ------            --------------   ----- \n",
            " 0   id                293983 non-null  int64 \n",
            " 1   id_order          293983 non-null  int64 \n",
            " 2   product_id        293983 non-null  int64 \n",
            " 3   product_quantity  293983 non-null  int64 \n",
            " 4   sku               293983 non-null  object\n",
            " 5   unit_price        293983 non-null  object\n",
            " 6   date              293983 non-null  object\n",
            "dtypes: int64(4), object(3)\n",
            "memory usage: 15.7+ MB\n"
          ]
        }
      ]
    },
    {
      "cell_type": "markdown",
      "source": [
        "* `date` should be a datetime datatype\n",
        "* `unit_price` should be a float datatype"
      ],
      "metadata": {
        "id": "iLSpYm1G2sPD"
      }
    },
    {
      "cell_type": "markdown",
      "source": [
        "## 3.&nbsp; Missing values"
      ],
      "metadata": {
        "id": "MlwJt5c-wiQh"
      }
    },
    {
      "cell_type": "markdown",
      "source": [
        "### 3.1.&nbsp; Orders\n",
        "* `total_paid` has 5 missing values"
      ],
      "metadata": {
        "id": "63eKHGzJwkuT"
      }
    },
    {
      "cell_type": "code",
      "source": [
        "print(f\"5 missing values represents {((orders.total_paid.isna().sum() / orders.shape[0])*100).round(5)}% of the rows in our DataFrame\")"
      ],
      "metadata": {
        "colab": {
          "base_uri": "https://localhost:8080/"
        },
        "id": "Yh81k3ppwl37",
        "outputId": "a151ff5f-4216-41d3-c19d-abc4f4baf608"
      },
      "execution_count": 7,
      "outputs": [
        {
          "output_type": "stream",
          "name": "stdout",
          "text": [
            "5 missing values represents 0.0022% of the rows in our DataFrame\n"
          ]
        }
      ]
    },
    {
      "cell_type": "markdown",
      "source": [
        "As there is such a tiny amount of missing values, we will simply delete these rows, as we have enough data without them."
      ],
      "metadata": {
        "id": "eMW6J-4v_iVM"
      }
    },
    {
      "cell_type": "code",
      "source": [
        "orders = orders.loc[~orders.total_paid.isna(), :]"
      ],
      "metadata": {
        "id": "ohcl2Pb2B_Ch"
      },
      "execution_count": 8,
      "outputs": []
    },
    {
      "cell_type": "markdown",
      "source": [
        "### 3.2.&nbsp; Orderlines\n",
        "There are no missing values in `orderlines`"
      ],
      "metadata": {
        "id": "nziIE3hbwmNa"
      }
    },
    {
      "cell_type": "markdown",
      "source": [
        "## 4.&nbsp; Datatypes"
      ],
      "metadata": {
        "id": "_feog1aCwosJ"
      }
    },
    {
      "cell_type": "markdown",
      "source": [
        "### 4.1.&nbsp; Orders\n",
        "* `created_date` should become datetime datatype"
      ],
      "metadata": {
        "id": "wCJyQYkOwrBE"
      }
    },
    {
      "cell_type": "code",
      "source": [
        "orders[\"created_date\"] = pd.to_datetime(orders[\"created_date\"])"
      ],
      "metadata": {
        "id": "cF9roGlewr8j"
      },
      "execution_count": 9,
      "outputs": []
    },
    {
      "cell_type": "markdown",
      "source": [
        "### 4.1.&nbsp; Orderlines\n",
        "* `date` should be a datetime datatype\n",
        "* `unit_price` should be a float datatype"
      ],
      "metadata": {
        "id": "osvynBTNwsin"
      }
    },
    {
      "cell_type": "markdown",
      "source": [
        "#### 4.1.1.&nbsp; `date`"
      ],
      "metadata": {
        "id": "PJcuKn8K06Yd"
      }
    },
    {
      "cell_type": "code",
      "source": [
        "orderlines[\"date\"] = pd.to_datetime(orderlines[\"date\"])"
      ],
      "metadata": {
        "id": "FnXgRKERwtvS"
      },
      "execution_count": 10,
      "outputs": []
    },
    {
      "cell_type": "markdown",
      "source": [
        "#### 4.1.2.&nbsp;`unit_price`"
      ],
      "metadata": {
        "id": "F7i78NDY0-oF"
      }
    },
    {
      "cell_type": "code",
      "source": [
        "orderlines[\"unit_price\"] = pd.to_numeric(orderlines[\"unit_price\"])"
      ],
      "metadata": {
        "colab": {
          "base_uri": "https://localhost:8080/",
          "height": 294
        },
        "id": "iOFBNmuRDuGU",
        "outputId": "dc158e54-50ad-479f-83fc-f4c324e92f5b"
      },
      "execution_count": 11,
      "outputs": [
        {
          "output_type": "error",
          "ename": "ValueError",
          "evalue": "ignored",
          "traceback": [
            "\u001b[0;31m---------------------------------------------------------------------------\u001b[0m",
            "\u001b[0;31mValueError\u001b[0m                                Traceback (most recent call last)",
            "\u001b[0;32m/usr/local/lib/python3.9/dist-packages/pandas/_libs/lib.pyx\u001b[0m in \u001b[0;36mpandas._libs.lib.maybe_convert_numeric\u001b[0;34m()\u001b[0m\n",
            "\u001b[0;31mValueError\u001b[0m: Unable to parse string \"1.137.99\"",
            "\nDuring handling of the above exception, another exception occurred:\n",
            "\u001b[0;31mValueError\u001b[0m                                Traceback (most recent call last)",
            "\u001b[0;32m<ipython-input-11-ddce6c16f698>\u001b[0m in \u001b[0;36m<cell line: 1>\u001b[0;34m()\u001b[0m\n\u001b[0;32m----> 1\u001b[0;31m \u001b[0morderlines\u001b[0m\u001b[0;34m[\u001b[0m\u001b[0;34m\"unit_price\"\u001b[0m\u001b[0;34m]\u001b[0m \u001b[0;34m=\u001b[0m \u001b[0mpd\u001b[0m\u001b[0;34m.\u001b[0m\u001b[0mto_numeric\u001b[0m\u001b[0;34m(\u001b[0m\u001b[0morderlines\u001b[0m\u001b[0;34m[\u001b[0m\u001b[0;34m\"unit_price\"\u001b[0m\u001b[0;34m]\u001b[0m\u001b[0;34m)\u001b[0m\u001b[0;34m\u001b[0m\u001b[0;34m\u001b[0m\u001b[0m\n\u001b[0m",
            "\u001b[0;32m/usr/local/lib/python3.9/dist-packages/pandas/core/tools/numeric.py\u001b[0m in \u001b[0;36mto_numeric\u001b[0;34m(arg, errors, downcast)\u001b[0m\n\u001b[1;32m    183\u001b[0m         \u001b[0mcoerce_numeric\u001b[0m \u001b[0;34m=\u001b[0m \u001b[0merrors\u001b[0m \u001b[0;32mnot\u001b[0m \u001b[0;32min\u001b[0m \u001b[0;34m(\u001b[0m\u001b[0;34m\"ignore\"\u001b[0m\u001b[0;34m,\u001b[0m \u001b[0;34m\"raise\"\u001b[0m\u001b[0;34m)\u001b[0m\u001b[0;34m\u001b[0m\u001b[0;34m\u001b[0m\u001b[0m\n\u001b[1;32m    184\u001b[0m         \u001b[0;32mtry\u001b[0m\u001b[0;34m:\u001b[0m\u001b[0;34m\u001b[0m\u001b[0;34m\u001b[0m\u001b[0m\n\u001b[0;32m--> 185\u001b[0;31m             values, _ = lib.maybe_convert_numeric(\n\u001b[0m\u001b[1;32m    186\u001b[0m                 \u001b[0mvalues\u001b[0m\u001b[0;34m,\u001b[0m \u001b[0mset\u001b[0m\u001b[0;34m(\u001b[0m\u001b[0;34m)\u001b[0m\u001b[0;34m,\u001b[0m \u001b[0mcoerce_numeric\u001b[0m\u001b[0;34m=\u001b[0m\u001b[0mcoerce_numeric\u001b[0m\u001b[0;34m\u001b[0m\u001b[0;34m\u001b[0m\u001b[0m\n\u001b[1;32m    187\u001b[0m             )\n",
            "\u001b[0;32m/usr/local/lib/python3.9/dist-packages/pandas/_libs/lib.pyx\u001b[0m in \u001b[0;36mpandas._libs.lib.maybe_convert_numeric\u001b[0;34m()\u001b[0m\n",
            "\u001b[0;31mValueError\u001b[0m: Unable to parse string \"1.137.99\" at position 6"
          ]
        }
      ]
    },
    {
      "cell_type": "markdown",
      "source": [
        "When I try to convert `unit_price` to a numerical datatype, I receive a `ValueError` telling us that pandas doesn't understand the number `1.137.99`. This is probably because numbers cannot have 2 decimal points."
      ],
      "metadata": {
        "id": "xEqhP5RFSmRi"
      }
    },
    {
      "cell_type": "code",
      "source": [
        "orderlines.unit_price.astype(str).str.contains(\"\\d+\\.\\d+\\.\\d+\").value_counts()"
      ],
      "metadata": {
        "id": "ONy-oCt0SkrR",
        "colab": {
          "base_uri": "https://localhost:8080/"
        },
        "outputId": "c14cd272-886c-41f5-b472-6a68ae66eb9a"
      },
      "execution_count": 12,
      "outputs": [
        {
          "output_type": "execute_result",
          "data": {
            "text/plain": [
              "False    257814\n",
              "True      36169\n",
              "Name: unit_price, dtype: int64"
            ]
          },
          "metadata": {},
          "execution_count": 12
        }
      ]
    },
    {
      "cell_type": "markdown",
      "source": [
        "Looks like over 36000 rows in `orderlines` are affected by this problem. Let's work out how much that is as a percentage of our total data."
      ],
      "metadata": {
        "id": "HSUPvFJU6Jv-"
      }
    },
    {
      "cell_type": "code",
      "source": [
        "two_dot_percentage = ((orderlines.unit_price.astype(str).str.contains(\"\\d+\\.\\d+\\.\\d+\").value_counts()[1] / orderlines.shape[0])*100).round(2)\n",
        "print(f\"The 2 dot problem represents {two_dot_percentage}% of the rows in our DataFrame\")"
      ],
      "metadata": {
        "id": "r75Rm1EgVjpi",
        "colab": {
          "base_uri": "https://localhost:8080/"
        },
        "outputId": "80d34e26-fb63-4a58-f982-8b2d8192784c"
      },
      "execution_count": 13,
      "outputs": [
        {
          "output_type": "stream",
          "name": "stdout",
          "text": [
            "The 2 dot problem represents 12.3% of the rows in our DataFrame\n"
          ]
        }
      ]
    },
    {
      "cell_type": "markdown",
      "source": [
        "This is a bit of a tricky decision as 12.3% is a significant amount of our data... and we might even end up losing a larger portion of our data than this too. For the moment we will delete the rows as we only have 2 weeks for this project and I'd like some quick, accurate results to show. If we have time at the end, we can come back and investigate this problem further, maybe there's a solution?\n",
        "\n",
        "Each row of `orderlines` represents a product in an order. For example, if order number 175 contained 3 seperate products, then order 175 would have 3 rows in `orderlines`, one row for each of the products. If 2 of those products have 'normal' prices (14.99, 15.85) and 1 has a price with 2 decimal points (1.137.99), we need to remove the whole order and not just the affected row. If we only remove the row with 2 decimal places then any later analysis about products and prices could be misleading.\n",
        "\n",
        "We therefore need to find the order numbers associated with the rows that have 2 decimal points, and then remove all the associated rows."
      ],
      "metadata": {
        "id": "5Kp9_4pqeu5J"
      }
    },
    {
      "cell_type": "code",
      "source": [
        "two_dot_order_ids_list = orderlines.loc[orderlines.unit_price.astype(str).str.contains(\"\\d+\\.\\d+\\.\\d+\"), \"id_order\"]\n",
        "orderlines = orderlines.loc[~orderlines.id_order.isin(two_dot_order_ids_list)]"
      ],
      "metadata": {
        "id": "wQnSe-n1WCqv"
      },
      "execution_count": 14,
      "outputs": []
    },
    {
      "cell_type": "code",
      "source": [
        "orderlines.shape[0]"
      ],
      "metadata": {
        "id": "k-GLzXuV0Ioj",
        "colab": {
          "base_uri": "https://localhost:8080/"
        },
        "outputId": "bf3d4b03-8443-4dcf-8472-674837ea2bfc"
      },
      "execution_count": 15,
      "outputs": [
        {
          "output_type": "execute_result",
          "data": {
            "text/plain": [
              "216250"
            ]
          },
          "metadata": {},
          "execution_count": 15
        }
      ]
    },
    {
      "cell_type": "markdown",
      "source": [
        "We still have 216250 rows in orderlines to work with. This should be more than enough for our evaluation.\n",
        "\n",
        "Now that all of the 2 decimal point prices have been removed, let's try again to convert the column `unit_price` to the correct datatype."
      ],
      "metadata": {
        "id": "2pd5t4110iz3"
      }
    },
    {
      "cell_type": "code",
      "source": [
        "orderlines[\"unit_price\"] = pd.to_numeric(orderlines[\"unit_price\"])"
      ],
      "metadata": {
        "id": "Q4eDTAPs1HMZ"
      },
      "execution_count": 16,
      "outputs": []
    },
    {
      "cell_type": "markdown",
      "source": [
        "It worked perfectly"
      ],
      "metadata": {
        "id": "sBudIQLm6oJQ"
      }
    },
    {
      "cell_type": "markdown",
      "source": [
        "# Challenge: Clean the `products` DataFrame\n"
      ],
      "metadata": {
        "id": "1zGAzgIX8_-D"
      }
    },
    {
      "cell_type": "code",
      "source": [
        "# products.csv\n",
        "url = \"https://drive.google.com/file/d/1afxwDXfl-7cQ_qLwyDitfcCx3u7WMvkU/view?usp=sharing\" \n",
        "path = \"https://drive.google.com/uc?export=download&id=\"+url.split(\"/\")[-2]\n",
        "products = pd.read_csv(path)"
      ],
      "metadata": {
        "id": "LtYqdFsa9KTS"
      },
      "execution_count": 17,
      "outputs": []
    },
    {
      "cell_type": "code",
      "source": [
        "products.head()"
      ],
      "metadata": {
        "id": "UW3zYoni9Vcy",
        "colab": {
          "base_uri": "https://localhost:8080/",
          "height": 206
        },
        "outputId": "7a7fc3a0-5df8-4a39-ade1-272eab3ba5d9"
      },
      "execution_count": 18,
      "outputs": [
        {
          "output_type": "execute_result",
          "data": {
            "text/plain": [
              "       sku                                           name  \\\n",
              "0  RAI0007              Silver Rain Design mStand Support   \n",
              "1  APP0023              Apple Mac Keyboard Keypad Spanish   \n",
              "2  APP0025               Mighty Mouse Apple Mouse for Mac   \n",
              "3  APP0072  Apple Dock to USB Cable iPhone and iPod white   \n",
              "4  KIN0007    Mac Memory Kingston 2GB 667MHz DDR2 SO-DIMM   \n",
              "\n",
              "                                                desc  price promo_price  \\\n",
              "0       Aluminum support compatible with all MacBook  59.99     499.899   \n",
              "1          USB ultrathin keyboard Apple Mac Spanish.     59     589.996   \n",
              "2                             mouse Apple USB cable.     59     569.898   \n",
              "3              IPhone dock and USB Cable Apple iPod.     25     229.997   \n",
              "4  2GB RAM Mac mini and iMac (2006/07) MacBook Pr...  34.99       31.99   \n",
              "\n",
              "   in_stock      type  \n",
              "0         1      8696  \n",
              "1         0  13855401  \n",
              "2         0      1387  \n",
              "3         0      1230  \n",
              "4         1      1364  "
            ],
            "text/html": [
              "\n",
              "  <div id=\"df-424180ee-087f-4404-ac61-35120cac9eff\">\n",
              "    <div class=\"colab-df-container\">\n",
              "      <div>\n",
              "<style scoped>\n",
              "    .dataframe tbody tr th:only-of-type {\n",
              "        vertical-align: middle;\n",
              "    }\n",
              "\n",
              "    .dataframe tbody tr th {\n",
              "        vertical-align: top;\n",
              "    }\n",
              "\n",
              "    .dataframe thead th {\n",
              "        text-align: right;\n",
              "    }\n",
              "</style>\n",
              "<table border=\"1\" class=\"dataframe\">\n",
              "  <thead>\n",
              "    <tr style=\"text-align: right;\">\n",
              "      <th></th>\n",
              "      <th>sku</th>\n",
              "      <th>name</th>\n",
              "      <th>desc</th>\n",
              "      <th>price</th>\n",
              "      <th>promo_price</th>\n",
              "      <th>in_stock</th>\n",
              "      <th>type</th>\n",
              "    </tr>\n",
              "  </thead>\n",
              "  <tbody>\n",
              "    <tr>\n",
              "      <th>0</th>\n",
              "      <td>RAI0007</td>\n",
              "      <td>Silver Rain Design mStand Support</td>\n",
              "      <td>Aluminum support compatible with all MacBook</td>\n",
              "      <td>59.99</td>\n",
              "      <td>499.899</td>\n",
              "      <td>1</td>\n",
              "      <td>8696</td>\n",
              "    </tr>\n",
              "    <tr>\n",
              "      <th>1</th>\n",
              "      <td>APP0023</td>\n",
              "      <td>Apple Mac Keyboard Keypad Spanish</td>\n",
              "      <td>USB ultrathin keyboard Apple Mac Spanish.</td>\n",
              "      <td>59</td>\n",
              "      <td>589.996</td>\n",
              "      <td>0</td>\n",
              "      <td>13855401</td>\n",
              "    </tr>\n",
              "    <tr>\n",
              "      <th>2</th>\n",
              "      <td>APP0025</td>\n",
              "      <td>Mighty Mouse Apple Mouse for Mac</td>\n",
              "      <td>mouse Apple USB cable.</td>\n",
              "      <td>59</td>\n",
              "      <td>569.898</td>\n",
              "      <td>0</td>\n",
              "      <td>1387</td>\n",
              "    </tr>\n",
              "    <tr>\n",
              "      <th>3</th>\n",
              "      <td>APP0072</td>\n",
              "      <td>Apple Dock to USB Cable iPhone and iPod white</td>\n",
              "      <td>IPhone dock and USB Cable Apple iPod.</td>\n",
              "      <td>25</td>\n",
              "      <td>229.997</td>\n",
              "      <td>0</td>\n",
              "      <td>1230</td>\n",
              "    </tr>\n",
              "    <tr>\n",
              "      <th>4</th>\n",
              "      <td>KIN0007</td>\n",
              "      <td>Mac Memory Kingston 2GB 667MHz DDR2 SO-DIMM</td>\n",
              "      <td>2GB RAM Mac mini and iMac (2006/07) MacBook Pr...</td>\n",
              "      <td>34.99</td>\n",
              "      <td>31.99</td>\n",
              "      <td>1</td>\n",
              "      <td>1364</td>\n",
              "    </tr>\n",
              "  </tbody>\n",
              "</table>\n",
              "</div>\n",
              "      <button class=\"colab-df-convert\" onclick=\"convertToInteractive('df-424180ee-087f-4404-ac61-35120cac9eff')\"\n",
              "              title=\"Convert this dataframe to an interactive table.\"\n",
              "              style=\"display:none;\">\n",
              "        \n",
              "  <svg xmlns=\"http://www.w3.org/2000/svg\" height=\"24px\"viewBox=\"0 0 24 24\"\n",
              "       width=\"24px\">\n",
              "    <path d=\"M0 0h24v24H0V0z\" fill=\"none\"/>\n",
              "    <path d=\"M18.56 5.44l.94 2.06.94-2.06 2.06-.94-2.06-.94-.94-2.06-.94 2.06-2.06.94zm-11 1L8.5 8.5l.94-2.06 2.06-.94-2.06-.94L8.5 2.5l-.94 2.06-2.06.94zm10 10l.94 2.06.94-2.06 2.06-.94-2.06-.94-.94-2.06-.94 2.06-2.06.94z\"/><path d=\"M17.41 7.96l-1.37-1.37c-.4-.4-.92-.59-1.43-.59-.52 0-1.04.2-1.43.59L10.3 9.45l-7.72 7.72c-.78.78-.78 2.05 0 2.83L4 21.41c.39.39.9.59 1.41.59.51 0 1.02-.2 1.41-.59l7.78-7.78 2.81-2.81c.8-.78.8-2.07 0-2.86zM5.41 20L4 18.59l7.72-7.72 1.47 1.35L5.41 20z\"/>\n",
              "  </svg>\n",
              "      </button>\n",
              "      \n",
              "  <style>\n",
              "    .colab-df-container {\n",
              "      display:flex;\n",
              "      flex-wrap:wrap;\n",
              "      gap: 12px;\n",
              "    }\n",
              "\n",
              "    .colab-df-convert {\n",
              "      background-color: #E8F0FE;\n",
              "      border: none;\n",
              "      border-radius: 50%;\n",
              "      cursor: pointer;\n",
              "      display: none;\n",
              "      fill: #1967D2;\n",
              "      height: 32px;\n",
              "      padding: 0 0 0 0;\n",
              "      width: 32px;\n",
              "    }\n",
              "\n",
              "    .colab-df-convert:hover {\n",
              "      background-color: #E2EBFA;\n",
              "      box-shadow: 0px 1px 2px rgba(60, 64, 67, 0.3), 0px 1px 3px 1px rgba(60, 64, 67, 0.15);\n",
              "      fill: #174EA6;\n",
              "    }\n",
              "\n",
              "    [theme=dark] .colab-df-convert {\n",
              "      background-color: #3B4455;\n",
              "      fill: #D2E3FC;\n",
              "    }\n",
              "\n",
              "    [theme=dark] .colab-df-convert:hover {\n",
              "      background-color: #434B5C;\n",
              "      box-shadow: 0px 1px 3px 1px rgba(0, 0, 0, 0.15);\n",
              "      filter: drop-shadow(0px 1px 2px rgba(0, 0, 0, 0.3));\n",
              "      fill: #FFFFFF;\n",
              "    }\n",
              "  </style>\n",
              "\n",
              "      <script>\n",
              "        const buttonEl =\n",
              "          document.querySelector('#df-424180ee-087f-4404-ac61-35120cac9eff button.colab-df-convert');\n",
              "        buttonEl.style.display =\n",
              "          google.colab.kernel.accessAllowed ? 'block' : 'none';\n",
              "\n",
              "        async function convertToInteractive(key) {\n",
              "          const element = document.querySelector('#df-424180ee-087f-4404-ac61-35120cac9eff');\n",
              "          const dataTable =\n",
              "            await google.colab.kernel.invokeFunction('convertToInteractive',\n",
              "                                                     [key], {});\n",
              "          if (!dataTable) return;\n",
              "\n",
              "          const docLinkHtml = 'Like what you see? Visit the ' +\n",
              "            '<a target=\"_blank\" href=https://colab.research.google.com/notebooks/data_table.ipynb>data table notebook</a>'\n",
              "            + ' to learn more about interactive tables.';\n",
              "          element.innerHTML = '';\n",
              "          dataTable['output_type'] = 'display_data';\n",
              "          await google.colab.output.renderOutput(dataTable, element);\n",
              "          const docLink = document.createElement('div');\n",
              "          docLink.innerHTML = docLinkHtml;\n",
              "          element.appendChild(docLink);\n",
              "        }\n",
              "      </script>\n",
              "    </div>\n",
              "  </div>\n",
              "  "
            ]
          },
          "metadata": {},
          "execution_count": 18
        }
      ]
    },
    {
      "cell_type": "markdown",
      "source": [
        "## Duplicates"
      ],
      "metadata": {
        "id": "DyTfC-WY-IWe"
      }
    },
    {
      "cell_type": "code",
      "source": [
        "products.duplicated().sum()"
      ],
      "metadata": {
        "id": "7WzmgCuz9X1x",
        "colab": {
          "base_uri": "https://localhost:8080/"
        },
        "outputId": "79651cbd-2900-43f6-bfe4-399e92a68403"
      },
      "execution_count": 19,
      "outputs": [
        {
          "output_type": "execute_result",
          "data": {
            "text/plain": [
              "8746"
            ]
          },
          "metadata": {},
          "execution_count": 19
        }
      ]
    },
    {
      "cell_type": "code",
      "source": [
        "products.drop_duplicates(inplace=True)"
      ],
      "metadata": {
        "id": "aP-EeieW-N5i"
      },
      "execution_count": 20,
      "outputs": []
    },
    {
      "cell_type": "markdown",
      "source": [
        "## `.info()`"
      ],
      "metadata": {
        "id": "kAgpknOR-zAg"
      }
    },
    {
      "cell_type": "code",
      "source": [
        "products.info()"
      ],
      "metadata": {
        "id": "MXZXRvUa_GTW",
        "colab": {
          "base_uri": "https://localhost:8080/"
        },
        "outputId": "4921095f-851c-468e-f937-d57e55b2f6d9"
      },
      "execution_count": 21,
      "outputs": [
        {
          "output_type": "stream",
          "name": "stdout",
          "text": [
            "<class 'pandas.core.frame.DataFrame'>\n",
            "Int64Index: 10580 entries, 0 to 19325\n",
            "Data columns (total 7 columns):\n",
            " #   Column       Non-Null Count  Dtype \n",
            "---  ------       --------------  ----- \n",
            " 0   sku          10580 non-null  object\n",
            " 1   name         10580 non-null  object\n",
            " 2   desc         10573 non-null  object\n",
            " 3   price        10534 non-null  object\n",
            " 4   promo_price  10580 non-null  object\n",
            " 5   in_stock     10580 non-null  int64 \n",
            " 6   type         10530 non-null  object\n",
            "dtypes: int64(1), object(6)\n",
            "memory usage: 661.2+ KB\n"
          ]
        }
      ]
    },
    {
      "cell_type": "markdown",
      "source": [
        "### Missing values\n",
        "We can see from `.info()` above that we have missing values in `desc` and `price`"
      ],
      "metadata": {
        "id": "XTGqkqtm--ln"
      }
    },
    {
      "cell_type": "markdown",
      "source": [
        "#### `desc`"
      ],
      "metadata": {
        "id": "LnW3DuWh_ZFr"
      }
    },
    {
      "cell_type": "code",
      "source": [
        "products.desc.isna().sum()"
      ],
      "metadata": {
        "id": "Sj7Ws3VcEQfQ",
        "colab": {
          "base_uri": "https://localhost:8080/"
        },
        "outputId": "cde34728-2d7d-4625-89e1-4dc9bd8dda52"
      },
      "execution_count": 22,
      "outputs": [
        {
          "output_type": "execute_result",
          "data": {
            "text/plain": [
              "7"
            ]
          },
          "metadata": {},
          "execution_count": 22
        }
      ]
    },
    {
      "cell_type": "code",
      "source": [
        "products.loc[products.desc.isna(), :]"
      ],
      "metadata": {
        "id": "eK9_QN6H-klR",
        "colab": {
          "base_uri": "https://localhost:8080/",
          "height": 269
        },
        "outputId": "a071c540-1322-4cf7-d176-649f32c24d85"
      },
      "execution_count": 23,
      "outputs": [
        {
          "output_type": "execute_result",
          "data": {
            "text/plain": [
              "             sku                                               name desc  \\\n",
              "16126  WDT0211-A  Open - Purple 2TB WD 35 \"PC Security Mac hard ...  NaN   \n",
              "16128  APP1622-A  Open - Apple Smart Keyboard Pro Keyboard Folio...  NaN   \n",
              "17843    PAC2334             Synology DS718 + NAS Server | 10GB RAM  NaN   \n",
              "18152  KAN0034-A  Open - Kanex USB-C Gigabit Ethernet Adapter Ma...  NaN   \n",
              "18490    HTE0025  Hyper Pearl 1600mAh battery Mini USB Mirror an...  NaN   \n",
              "18612    OTT0200    OtterBox External Battery Power Pack 20000 mAHr  NaN   \n",
              "18690  HOW0001-A  Open - Honeywell thermostat Lyric zonificador ...  NaN   \n",
              "\n",
              "           price promo_price  in_stock      type  \n",
              "16126        107     814.659         0      1298  \n",
              "16128  1.568.206   1.568.206         0      1298  \n",
              "17843     566.35   5.659.896         0  12175397  \n",
              "18152      29.99     237.925         0      1298  \n",
              "18490      24.99       22.99         1      1515  \n",
              "18612      79.99       56.99         1      1515  \n",
              "18690     199.99   1.441.174         0  11905404  "
            ],
            "text/html": [
              "\n",
              "  <div id=\"df-19e42ace-cf9d-4fdb-a735-0354a3e1fe2e\">\n",
              "    <div class=\"colab-df-container\">\n",
              "      <div>\n",
              "<style scoped>\n",
              "    .dataframe tbody tr th:only-of-type {\n",
              "        vertical-align: middle;\n",
              "    }\n",
              "\n",
              "    .dataframe tbody tr th {\n",
              "        vertical-align: top;\n",
              "    }\n",
              "\n",
              "    .dataframe thead th {\n",
              "        text-align: right;\n",
              "    }\n",
              "</style>\n",
              "<table border=\"1\" class=\"dataframe\">\n",
              "  <thead>\n",
              "    <tr style=\"text-align: right;\">\n",
              "      <th></th>\n",
              "      <th>sku</th>\n",
              "      <th>name</th>\n",
              "      <th>desc</th>\n",
              "      <th>price</th>\n",
              "      <th>promo_price</th>\n",
              "      <th>in_stock</th>\n",
              "      <th>type</th>\n",
              "    </tr>\n",
              "  </thead>\n",
              "  <tbody>\n",
              "    <tr>\n",
              "      <th>16126</th>\n",
              "      <td>WDT0211-A</td>\n",
              "      <td>Open - Purple 2TB WD 35 \"PC Security Mac hard ...</td>\n",
              "      <td>NaN</td>\n",
              "      <td>107</td>\n",
              "      <td>814.659</td>\n",
              "      <td>0</td>\n",
              "      <td>1298</td>\n",
              "    </tr>\n",
              "    <tr>\n",
              "      <th>16128</th>\n",
              "      <td>APP1622-A</td>\n",
              "      <td>Open - Apple Smart Keyboard Pro Keyboard Folio...</td>\n",
              "      <td>NaN</td>\n",
              "      <td>1.568.206</td>\n",
              "      <td>1.568.206</td>\n",
              "      <td>0</td>\n",
              "      <td>1298</td>\n",
              "    </tr>\n",
              "    <tr>\n",
              "      <th>17843</th>\n",
              "      <td>PAC2334</td>\n",
              "      <td>Synology DS718 + NAS Server | 10GB RAM</td>\n",
              "      <td>NaN</td>\n",
              "      <td>566.35</td>\n",
              "      <td>5.659.896</td>\n",
              "      <td>0</td>\n",
              "      <td>12175397</td>\n",
              "    </tr>\n",
              "    <tr>\n",
              "      <th>18152</th>\n",
              "      <td>KAN0034-A</td>\n",
              "      <td>Open - Kanex USB-C Gigabit Ethernet Adapter Ma...</td>\n",
              "      <td>NaN</td>\n",
              "      <td>29.99</td>\n",
              "      <td>237.925</td>\n",
              "      <td>0</td>\n",
              "      <td>1298</td>\n",
              "    </tr>\n",
              "    <tr>\n",
              "      <th>18490</th>\n",
              "      <td>HTE0025</td>\n",
              "      <td>Hyper Pearl 1600mAh battery Mini USB Mirror an...</td>\n",
              "      <td>NaN</td>\n",
              "      <td>24.99</td>\n",
              "      <td>22.99</td>\n",
              "      <td>1</td>\n",
              "      <td>1515</td>\n",
              "    </tr>\n",
              "    <tr>\n",
              "      <th>18612</th>\n",
              "      <td>OTT0200</td>\n",
              "      <td>OtterBox External Battery Power Pack 20000 mAHr</td>\n",
              "      <td>NaN</td>\n",
              "      <td>79.99</td>\n",
              "      <td>56.99</td>\n",
              "      <td>1</td>\n",
              "      <td>1515</td>\n",
              "    </tr>\n",
              "    <tr>\n",
              "      <th>18690</th>\n",
              "      <td>HOW0001-A</td>\n",
              "      <td>Open - Honeywell thermostat Lyric zonificador ...</td>\n",
              "      <td>NaN</td>\n",
              "      <td>199.99</td>\n",
              "      <td>1.441.174</td>\n",
              "      <td>0</td>\n",
              "      <td>11905404</td>\n",
              "    </tr>\n",
              "  </tbody>\n",
              "</table>\n",
              "</div>\n",
              "      <button class=\"colab-df-convert\" onclick=\"convertToInteractive('df-19e42ace-cf9d-4fdb-a735-0354a3e1fe2e')\"\n",
              "              title=\"Convert this dataframe to an interactive table.\"\n",
              "              style=\"display:none;\">\n",
              "        \n",
              "  <svg xmlns=\"http://www.w3.org/2000/svg\" height=\"24px\"viewBox=\"0 0 24 24\"\n",
              "       width=\"24px\">\n",
              "    <path d=\"M0 0h24v24H0V0z\" fill=\"none\"/>\n",
              "    <path d=\"M18.56 5.44l.94 2.06.94-2.06 2.06-.94-2.06-.94-.94-2.06-.94 2.06-2.06.94zm-11 1L8.5 8.5l.94-2.06 2.06-.94-2.06-.94L8.5 2.5l-.94 2.06-2.06.94zm10 10l.94 2.06.94-2.06 2.06-.94-2.06-.94-.94-2.06-.94 2.06-2.06.94z\"/><path d=\"M17.41 7.96l-1.37-1.37c-.4-.4-.92-.59-1.43-.59-.52 0-1.04.2-1.43.59L10.3 9.45l-7.72 7.72c-.78.78-.78 2.05 0 2.83L4 21.41c.39.39.9.59 1.41.59.51 0 1.02-.2 1.41-.59l7.78-7.78 2.81-2.81c.8-.78.8-2.07 0-2.86zM5.41 20L4 18.59l7.72-7.72 1.47 1.35L5.41 20z\"/>\n",
              "  </svg>\n",
              "      </button>\n",
              "      \n",
              "  <style>\n",
              "    .colab-df-container {\n",
              "      display:flex;\n",
              "      flex-wrap:wrap;\n",
              "      gap: 12px;\n",
              "    }\n",
              "\n",
              "    .colab-df-convert {\n",
              "      background-color: #E8F0FE;\n",
              "      border: none;\n",
              "      border-radius: 50%;\n",
              "      cursor: pointer;\n",
              "      display: none;\n",
              "      fill: #1967D2;\n",
              "      height: 32px;\n",
              "      padding: 0 0 0 0;\n",
              "      width: 32px;\n",
              "    }\n",
              "\n",
              "    .colab-df-convert:hover {\n",
              "      background-color: #E2EBFA;\n",
              "      box-shadow: 0px 1px 2px rgba(60, 64, 67, 0.3), 0px 1px 3px 1px rgba(60, 64, 67, 0.15);\n",
              "      fill: #174EA6;\n",
              "    }\n",
              "\n",
              "    [theme=dark] .colab-df-convert {\n",
              "      background-color: #3B4455;\n",
              "      fill: #D2E3FC;\n",
              "    }\n",
              "\n",
              "    [theme=dark] .colab-df-convert:hover {\n",
              "      background-color: #434B5C;\n",
              "      box-shadow: 0px 1px 3px 1px rgba(0, 0, 0, 0.15);\n",
              "      filter: drop-shadow(0px 1px 2px rgba(0, 0, 0, 0.3));\n",
              "      fill: #FFFFFF;\n",
              "    }\n",
              "  </style>\n",
              "\n",
              "      <script>\n",
              "        const buttonEl =\n",
              "          document.querySelector('#df-19e42ace-cf9d-4fdb-a735-0354a3e1fe2e button.colab-df-convert');\n",
              "        buttonEl.style.display =\n",
              "          google.colab.kernel.accessAllowed ? 'block' : 'none';\n",
              "\n",
              "        async function convertToInteractive(key) {\n",
              "          const element = document.querySelector('#df-19e42ace-cf9d-4fdb-a735-0354a3e1fe2e');\n",
              "          const dataTable =\n",
              "            await google.colab.kernel.invokeFunction('convertToInteractive',\n",
              "                                                     [key], {});\n",
              "          if (!dataTable) return;\n",
              "\n",
              "          const docLinkHtml = 'Like what you see? Visit the ' +\n",
              "            '<a target=\"_blank\" href=https://colab.research.google.com/notebooks/data_table.ipynb>data table notebook</a>'\n",
              "            + ' to learn more about interactive tables.';\n",
              "          element.innerHTML = '';\n",
              "          dataTable['output_type'] = 'display_data';\n",
              "          await google.colab.output.renderOutput(dataTable, element);\n",
              "          const docLink = document.createElement('div');\n",
              "          docLink.innerHTML = docLinkHtml;\n",
              "          element.appendChild(docLink);\n",
              "        }\n",
              "      </script>\n",
              "    </div>\n",
              "  </div>\n",
              "  "
            ]
          },
          "metadata": {},
          "execution_count": 23
        }
      ]
    },
    {
      "cell_type": "code",
      "source": [
        "products.loc[products.desc.isna(), \"desc\"] = products.loc[products.desc.isna(), \"name\"]"
      ],
      "metadata": {
        "id": "ZhRJjkx4BTJe"
      },
      "execution_count": 24,
      "outputs": []
    },
    {
      "cell_type": "markdown",
      "source": [
        "#### `price`"
      ],
      "metadata": {
        "id": "DX9u7jeE_c95"
      }
    },
    {
      "cell_type": "code",
      "source": [
        "products.price.isna().sum()"
      ],
      "metadata": {
        "id": "E3izDYam_gN8",
        "colab": {
          "base_uri": "https://localhost:8080/"
        },
        "outputId": "2772fce2-5c55-4e9c-a52d-35e20a6b82ca"
      },
      "execution_count": 25,
      "outputs": [
        {
          "output_type": "execute_result",
          "data": {
            "text/plain": [
              "46"
            ]
          },
          "metadata": {},
          "execution_count": 25
        }
      ]
    },
    {
      "cell_type": "code",
      "source": [
        "print(f\"The missing values in price are {((products.price.isna().sum() / products.shape[0]) * 100).round(2)}% of all rows in the DataFrame\")"
      ],
      "metadata": {
        "id": "LRknumaMk9gn",
        "colab": {
          "base_uri": "https://localhost:8080/"
        },
        "outputId": "59b1ebdc-f8c5-4165-db33-af126c637acc"
      },
      "execution_count": 26,
      "outputs": [
        {
          "output_type": "stream",
          "name": "stdout",
          "text": [
            "The missing values in price are 0.43% of all rows in the DataFrame\n"
          ]
        }
      ]
    },
    {
      "cell_type": "code",
      "source": [
        "products = products.loc[~products.price.isna(), :]"
      ],
      "metadata": {
        "id": "_LrT0QGlkKi-"
      },
      "execution_count": 27,
      "outputs": []
    },
    {
      "cell_type": "markdown",
      "source": [
        "### Data types\n"
      ],
      "metadata": {
        "id": "4x6xeGDu_B0N"
      }
    },
    {
      "cell_type": "markdown",
      "source": [
        "#### `price`"
      ],
      "metadata": {
        "id": "u0CsTv1WnMie"
      }
    },
    {
      "cell_type": "markdown",
      "source": [
        "First, let's see how many values are affected by the 2 problems mentioned above."
      ],
      "metadata": {
        "id": "2mIc7YWdva5I"
      }
    },
    {
      "cell_type": "code",
      "source": [
        "price_problems_number = products.loc[(products.price.astype(str).str.contains(\"\\d+\\.\\d+\\.\\d+\"))|(products.price.astype(str).str.contains(\"\\d+\\.\\d{3,}\")), :].shape[0]\n",
        "price_problems_number"
      ],
      "metadata": {
        "id": "bShFL27Nq3Da",
        "colab": {
          "base_uri": "https://localhost:8080/"
        },
        "outputId": "6236dc02-8dff-4f13-af9a-981d5fff3be1"
      },
      "execution_count": 28,
      "outputs": [
        {
          "output_type": "execute_result",
          "data": {
            "text/plain": [
              "542"
            ]
          },
          "metadata": {},
          "execution_count": 28
        }
      ]
    },
    {
      "cell_type": "code",
      "source": [
        "print(f\"The column price has in total {price_problems_number} wrong values. This is {round(((price_problems_number / products.shape[0]) * 100), 2)}% of the rows of the DataFrame\")"
      ],
      "metadata": {
        "id": "R-HG2ur6eOiP",
        "colab": {
          "base_uri": "https://localhost:8080/"
        },
        "outputId": "38d5bd51-b81d-4eac-8938-79a843c2416c"
      },
      "execution_count": 29,
      "outputs": [
        {
          "output_type": "stream",
          "name": "stdout",
          "text": [
            "The column price has in total 542 wrong values. This is 5.15% of the rows of the DataFrame\n"
          ]
        }
      ]
    },
    {
      "cell_type": "markdown",
      "source": [
        "5.15% is a reasonable amount of our data. However, the price column will be important to understanding discounts, so I'd like it to be very trustworthy as we are basing business decisions on it. Therefore, I will delete these rows"
      ],
      "metadata": {
        "id": "p9QV50j3orpP"
      }
    },
    {
      "cell_type": "code",
      "source": [
        "products = products.loc[(~products.price.astype(str).str.contains(\"\\d+\\.\\d+\\.\\d+\"))&(~products.price.astype(str).str.contains(\"\\d+\\.\\d{3,}\")), :]"
      ],
      "metadata": {
        "id": "3xkK12Mspand"
      },
      "execution_count": 30,
      "outputs": []
    },
    {
      "cell_type": "markdown",
      "source": [
        "To complete our task, let's convert the column to a numeric datatype"
      ],
      "metadata": {
        "id": "Y_3K0v8wvMP1"
      }
    },
    {
      "cell_type": "code",
      "source": [
        "products[\"price\"] = pd.to_numeric(products[\"price\"])"
      ],
      "metadata": {
        "id": "3evkDaafvFUq"
      },
      "execution_count": 31,
      "outputs": []
    },
    {
      "cell_type": "markdown",
      "source": [
        "#### `promo_price`"
      ],
      "metadata": {
        "id": "9GcbI2upeG3M"
      }
    },
    {
      "cell_type": "markdown",
      "source": [
        "Again, let's begin by seeing how many values are affected by the 2 problems"
      ],
      "metadata": {
        "id": "NQq3M2zGvzS5"
      }
    },
    {
      "cell_type": "code",
      "source": [
        "promo_problems_number = products.loc[(products.promo_price.astype(str).str.contains(\"\\d+\\.\\d+\\.\\d+\"))|(products.promo_price.astype(str).str.contains(\"\\d+\\.\\d{3,}\")), :].shape[0]\n",
        "promo_problems_number"
      ],
      "metadata": {
        "id": "vI4ueHibtK1P",
        "colab": {
          "base_uri": "https://localhost:8080/"
        },
        "outputId": "8bd66571-413f-4806-bb3c-68b4fb4801de"
      },
      "execution_count": 32,
      "outputs": [
        {
          "output_type": "execute_result",
          "data": {
            "text/plain": [
              "9232"
            ]
          },
          "metadata": {},
          "execution_count": 32
        }
      ]
    },
    {
      "cell_type": "code",
      "source": [
        "print(f\"The column promo_price has in total {promo_problems_number} wrong values. This is {round(((promo_problems_number / products.shape[0]) * 100), 2)}% of the rows of the DataFrame\")"
      ],
      "metadata": {
        "id": "Jxpd8nVptKxs",
        "colab": {
          "base_uri": "https://localhost:8080/"
        },
        "outputId": "6e9b494e-3d80-4585-d6dc-c4eab0a28d70"
      },
      "execution_count": 33,
      "outputs": [
        {
          "output_type": "stream",
          "name": "stdout",
          "text": [
            "The column promo_price has in total 9232 wrong values. This is 92.39% of the rows of the DataFrame\n"
          ]
        }
      ]
    },
    {
      "cell_type": "code",
      "source": [
        "promo_price_df = products.loc[(products.promo_price.astype(str).str.contains(\"\\d+\\.\\d+\\.\\d+\"))|(products.promo_price.astype(str).str.contains(\"\\d+\\.\\d{3,}\")), :]\n",
        "promo_price_df.sample(10)"
      ],
      "metadata": {
        "id": "6S88DpsRtaM0",
        "colab": {
          "base_uri": "https://localhost:8080/",
          "height": 363
        },
        "outputId": "36d9538b-f3f2-4ded-8e87-1bba30086593"
      },
      "execution_count": 35,
      "outputs": [
        {
          "output_type": "execute_result",
          "data": {
            "text/plain": [
              "             sku                                               name  \\\n",
              "13616    APP1807  Apple Correa Nailon 38mm Braid Navy / Blue Lagoon   \n",
              "17526  CRU0053-2  Crucial memory Mac 32GB (2x16GB) SO-DIMM DDR4 ...   \n",
              "2923     SAN0096         SanDisk Ultra 64GB USB Flash Drive Fit 3.0   \n",
              "15260    LEX0042  Lexar C20c JumpDrive USB Flash Drive 128GB-C /...   \n",
              "16227    APP2218  Apple iMac 27 \"Core i5 Retina 5K 34GHz | 8GB |...   \n",
              "14879    STA0059               Startech USB-C Cable to VGA 1m Black   \n",
              "14674    QNA0204                                   QNAP TS-231P NAS   \n",
              "13307    OTT0149  OtterBox iPhone Case Symmetry 8/7 Clear Clear ...   \n",
              "763      APP0990  Apple Mac Pro 12-core 27GHz | 16GB RAM | 1TB F...   \n",
              "636      BEL0139  Belkin Lego iPhone Case SE / 5s / 5 Blue / Purple   \n",
              "\n",
              "                                                    desc    price promo_price  \\\n",
              "13616  Braided nylon strap with four layers of tissue...    59.00     550.006   \n",
              "17526  Crucial memory Mac SO-DIMM 32GB 2400MHz DDR4 i...   423.98   4.229.906   \n",
              "2923      Pendrive ultracompact 64GB USB 3.0 Mac and PC.    29.90     179.903   \n",
              "15260  USB flash drive with USB 3.1-C and 128GB conne...    71.37     672.808   \n",
              "16227  IMac desktop computer 27 inch 5K Retina 8GB RA...  2939.00  27.630.048   \n",
              "14879  1m adapter cable with USB-C reversible VGA con...    62.99     449.902   \n",
              "14674  2-bay NAS server with 2 LAN ports and a powerf...   216.59   2.069.899   \n",
              "13307  resistant and anti thin sleeve edges beveled b...    29.99     199.904   \n",
              "763    New Mac Pro with 16GB of RAM 12-core GPU 1TB 2...  8969.00  84.375.841   \n",
              "636             Lego rigid shell for iPhone SE / 5s / 5.    29.99      99.946   \n",
              "\n",
              "       in_stock      type  \n",
              "13616         0      2449  \n",
              "17526         1      1364  \n",
              "2923          0  57445397  \n",
              "15260         0  57445397  \n",
              "16227         0  5,74E+15  \n",
              "14879         0  12585395  \n",
              "14674         0  12175397  \n",
              "13307         0  11865403  \n",
              "763           0      1282  \n",
              "636           0  11865403  "
            ],
            "text/html": [
              "\n",
              "  <div id=\"df-ab2cc221-8581-4539-972a-cbcf5a44f80a\">\n",
              "    <div class=\"colab-df-container\">\n",
              "      <div>\n",
              "<style scoped>\n",
              "    .dataframe tbody tr th:only-of-type {\n",
              "        vertical-align: middle;\n",
              "    }\n",
              "\n",
              "    .dataframe tbody tr th {\n",
              "        vertical-align: top;\n",
              "    }\n",
              "\n",
              "    .dataframe thead th {\n",
              "        text-align: right;\n",
              "    }\n",
              "</style>\n",
              "<table border=\"1\" class=\"dataframe\">\n",
              "  <thead>\n",
              "    <tr style=\"text-align: right;\">\n",
              "      <th></th>\n",
              "      <th>sku</th>\n",
              "      <th>name</th>\n",
              "      <th>desc</th>\n",
              "      <th>price</th>\n",
              "      <th>promo_price</th>\n",
              "      <th>in_stock</th>\n",
              "      <th>type</th>\n",
              "    </tr>\n",
              "  </thead>\n",
              "  <tbody>\n",
              "    <tr>\n",
              "      <th>13616</th>\n",
              "      <td>APP1807</td>\n",
              "      <td>Apple Correa Nailon 38mm Braid Navy / Blue Lagoon</td>\n",
              "      <td>Braided nylon strap with four layers of tissue...</td>\n",
              "      <td>59.00</td>\n",
              "      <td>550.006</td>\n",
              "      <td>0</td>\n",
              "      <td>2449</td>\n",
              "    </tr>\n",
              "    <tr>\n",
              "      <th>17526</th>\n",
              "      <td>CRU0053-2</td>\n",
              "      <td>Crucial memory Mac 32GB (2x16GB) SO-DIMM DDR4 ...</td>\n",
              "      <td>Crucial memory Mac SO-DIMM 32GB 2400MHz DDR4 i...</td>\n",
              "      <td>423.98</td>\n",
              "      <td>4.229.906</td>\n",
              "      <td>1</td>\n",
              "      <td>1364</td>\n",
              "    </tr>\n",
              "    <tr>\n",
              "      <th>2923</th>\n",
              "      <td>SAN0096</td>\n",
              "      <td>SanDisk Ultra 64GB USB Flash Drive Fit 3.0</td>\n",
              "      <td>Pendrive ultracompact 64GB USB 3.0 Mac and PC.</td>\n",
              "      <td>29.90</td>\n",
              "      <td>179.903</td>\n",
              "      <td>0</td>\n",
              "      <td>57445397</td>\n",
              "    </tr>\n",
              "    <tr>\n",
              "      <th>15260</th>\n",
              "      <td>LEX0042</td>\n",
              "      <td>Lexar C20c JumpDrive USB Flash Drive 128GB-C /...</td>\n",
              "      <td>USB flash drive with USB 3.1-C and 128GB conne...</td>\n",
              "      <td>71.37</td>\n",
              "      <td>672.808</td>\n",
              "      <td>0</td>\n",
              "      <td>57445397</td>\n",
              "    </tr>\n",
              "    <tr>\n",
              "      <th>16227</th>\n",
              "      <td>APP2218</td>\n",
              "      <td>Apple iMac 27 \"Core i5 Retina 5K 34GHz | 8GB |...</td>\n",
              "      <td>IMac desktop computer 27 inch 5K Retina 8GB RA...</td>\n",
              "      <td>2939.00</td>\n",
              "      <td>27.630.048</td>\n",
              "      <td>0</td>\n",
              "      <td>5,74E+15</td>\n",
              "    </tr>\n",
              "    <tr>\n",
              "      <th>14879</th>\n",
              "      <td>STA0059</td>\n",
              "      <td>Startech USB-C Cable to VGA 1m Black</td>\n",
              "      <td>1m adapter cable with USB-C reversible VGA con...</td>\n",
              "      <td>62.99</td>\n",
              "      <td>449.902</td>\n",
              "      <td>0</td>\n",
              "      <td>12585395</td>\n",
              "    </tr>\n",
              "    <tr>\n",
              "      <th>14674</th>\n",
              "      <td>QNA0204</td>\n",
              "      <td>QNAP TS-231P NAS</td>\n",
              "      <td>2-bay NAS server with 2 LAN ports and a powerf...</td>\n",
              "      <td>216.59</td>\n",
              "      <td>2.069.899</td>\n",
              "      <td>0</td>\n",
              "      <td>12175397</td>\n",
              "    </tr>\n",
              "    <tr>\n",
              "      <th>13307</th>\n",
              "      <td>OTT0149</td>\n",
              "      <td>OtterBox iPhone Case Symmetry 8/7 Clear Clear ...</td>\n",
              "      <td>resistant and anti thin sleeve edges beveled b...</td>\n",
              "      <td>29.99</td>\n",
              "      <td>199.904</td>\n",
              "      <td>0</td>\n",
              "      <td>11865403</td>\n",
              "    </tr>\n",
              "    <tr>\n",
              "      <th>763</th>\n",
              "      <td>APP0990</td>\n",
              "      <td>Apple Mac Pro 12-core 27GHz | 16GB RAM | 1TB F...</td>\n",
              "      <td>New Mac Pro with 16GB of RAM 12-core GPU 1TB 2...</td>\n",
              "      <td>8969.00</td>\n",
              "      <td>84.375.841</td>\n",
              "      <td>0</td>\n",
              "      <td>1282</td>\n",
              "    </tr>\n",
              "    <tr>\n",
              "      <th>636</th>\n",
              "      <td>BEL0139</td>\n",
              "      <td>Belkin Lego iPhone Case SE / 5s / 5 Blue / Purple</td>\n",
              "      <td>Lego rigid shell for iPhone SE / 5s / 5.</td>\n",
              "      <td>29.99</td>\n",
              "      <td>99.946</td>\n",
              "      <td>0</td>\n",
              "      <td>11865403</td>\n",
              "    </tr>\n",
              "  </tbody>\n",
              "</table>\n",
              "</div>\n",
              "      <button class=\"colab-df-convert\" onclick=\"convertToInteractive('df-ab2cc221-8581-4539-972a-cbcf5a44f80a')\"\n",
              "              title=\"Convert this dataframe to an interactive table.\"\n",
              "              style=\"display:none;\">\n",
              "        \n",
              "  <svg xmlns=\"http://www.w3.org/2000/svg\" height=\"24px\"viewBox=\"0 0 24 24\"\n",
              "       width=\"24px\">\n",
              "    <path d=\"M0 0h24v24H0V0z\" fill=\"none\"/>\n",
              "    <path d=\"M18.56 5.44l.94 2.06.94-2.06 2.06-.94-2.06-.94-.94-2.06-.94 2.06-2.06.94zm-11 1L8.5 8.5l.94-2.06 2.06-.94-2.06-.94L8.5 2.5l-.94 2.06-2.06.94zm10 10l.94 2.06.94-2.06 2.06-.94-2.06-.94-.94-2.06-.94 2.06-2.06.94z\"/><path d=\"M17.41 7.96l-1.37-1.37c-.4-.4-.92-.59-1.43-.59-.52 0-1.04.2-1.43.59L10.3 9.45l-7.72 7.72c-.78.78-.78 2.05 0 2.83L4 21.41c.39.39.9.59 1.41.59.51 0 1.02-.2 1.41-.59l7.78-7.78 2.81-2.81c.8-.78.8-2.07 0-2.86zM5.41 20L4 18.59l7.72-7.72 1.47 1.35L5.41 20z\"/>\n",
              "  </svg>\n",
              "      </button>\n",
              "      \n",
              "  <style>\n",
              "    .colab-df-container {\n",
              "      display:flex;\n",
              "      flex-wrap:wrap;\n",
              "      gap: 12px;\n",
              "    }\n",
              "\n",
              "    .colab-df-convert {\n",
              "      background-color: #E8F0FE;\n",
              "      border: none;\n",
              "      border-radius: 50%;\n",
              "      cursor: pointer;\n",
              "      display: none;\n",
              "      fill: #1967D2;\n",
              "      height: 32px;\n",
              "      padding: 0 0 0 0;\n",
              "      width: 32px;\n",
              "    }\n",
              "\n",
              "    .colab-df-convert:hover {\n",
              "      background-color: #E2EBFA;\n",
              "      box-shadow: 0px 1px 2px rgba(60, 64, 67, 0.3), 0px 1px 3px 1px rgba(60, 64, 67, 0.15);\n",
              "      fill: #174EA6;\n",
              "    }\n",
              "\n",
              "    [theme=dark] .colab-df-convert {\n",
              "      background-color: #3B4455;\n",
              "      fill: #D2E3FC;\n",
              "    }\n",
              "\n",
              "    [theme=dark] .colab-df-convert:hover {\n",
              "      background-color: #434B5C;\n",
              "      box-shadow: 0px 1px 3px 1px rgba(0, 0, 0, 0.15);\n",
              "      filter: drop-shadow(0px 1px 2px rgba(0, 0, 0, 0.3));\n",
              "      fill: #FFFFFF;\n",
              "    }\n",
              "  </style>\n",
              "\n",
              "      <script>\n",
              "        const buttonEl =\n",
              "          document.querySelector('#df-ab2cc221-8581-4539-972a-cbcf5a44f80a button.colab-df-convert');\n",
              "        buttonEl.style.display =\n",
              "          google.colab.kernel.accessAllowed ? 'block' : 'none';\n",
              "\n",
              "        async function convertToInteractive(key) {\n",
              "          const element = document.querySelector('#df-ab2cc221-8581-4539-972a-cbcf5a44f80a');\n",
              "          const dataTable =\n",
              "            await google.colab.kernel.invokeFunction('convertToInteractive',\n",
              "                                                     [key], {});\n",
              "          if (!dataTable) return;\n",
              "\n",
              "          const docLinkHtml = 'Like what you see? Visit the ' +\n",
              "            '<a target=\"_blank\" href=https://colab.research.google.com/notebooks/data_table.ipynb>data table notebook</a>'\n",
              "            + ' to learn more about interactive tables.';\n",
              "          element.innerHTML = '';\n",
              "          dataTable['output_type'] = 'display_data';\n",
              "          await google.colab.output.renderOutput(dataTable, element);\n",
              "          const docLink = document.createElement('div');\n",
              "          docLink.innerHTML = docLinkHtml;\n",
              "          element.appendChild(docLink);\n",
              "        }\n",
              "      </script>\n",
              "    </div>\n",
              "  </div>\n",
              "  "
            ]
          },
          "metadata": {},
          "execution_count": 35
        }
      ]
    },
    {
      "cell_type": "markdown",
      "source": [
        "Over 90% of the data in this column is corrupt. Delete the column."
      ],
      "metadata": {
        "id": "0Hfgo84xu_VS"
      }
    },
    {
      "cell_type": "code",
      "source": [
        "products_cl = products.drop(columns=[\"promo_price\"])"
      ],
      "metadata": {
        "id": "OalyJ-8atij8"
      },
      "execution_count": 36,
      "outputs": []
    }
  ]
}