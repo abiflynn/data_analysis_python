{
  "nbformat": 4,
  "nbformat_minor": 0,
  "metadata": {
    "colab": {
      "provenance": [],
      "include_colab_link": true
    },
    "kernelspec": {
      "name": "python3",
      "display_name": "Python 3"
    },
    "language_info": {
      "name": "python"
    }
  },
  "cells": [
    {
      "cell_type": "markdown",
      "metadata": {
        "id": "view-in-github",
        "colab_type": "text"
      },
      "source": [
        "<a href=\"https://colab.research.google.com/github/abiflynn/data_analysis_python/blob/main/data_exploration/groupby.ipynb\" target=\"_parent\"><img src=\"https://colab.research.google.com/assets/colab-badge.svg\" alt=\"Open In Colab\"/></a>"
      ]
    },
    {
      "cell_type": "markdown",
      "source": [
        "# Grouping and aggregating data\n"
      ],
      "metadata": {
        "id": "MGfHi2emuFvJ"
      }
    },
    {
      "cell_type": "code",
      "source": [
        "import pandas as pd\n",
        "import numpy as np"
      ],
      "metadata": {
        "id": "Lq7zsZka4q2m"
      },
      "execution_count": 1,
      "outputs": []
    },
    {
      "cell_type": "code",
      "source": [
        "# orders_cl.csv\n",
        "url = \"https://drive.google.com/file/d/1Tla62vfu__kCqvgypZyVt2S9VuC016yH/view?usp=sharing\" \n",
        "path = \"https://drive.google.com/uc?export=download&id=\"+url.split(\"/\")[-2]\n",
        "orders_cl = pd.read_csv(path)\n",
        "\n",
        "# orderlines_cl.csv\n",
        "url = \"https://drive.google.com/file/d/1OhtkQS2fwOYdzfd-qPh7im35iLc-L9TA/view?usp=sharing\" \n",
        "path = \"https://drive.google.com/uc?export=download&id=\"+url.split(\"/\")[-2]\n",
        "orderlines_cl = pd.read_csv(path)\n",
        "\n",
        "# products_cl.csv\n",
        "url = \"https://drive.google.com/file/d/1s7Lai4NSlsYjGEPg1QSOUJobNYVsZBOJ/view?usp=sharing\" \n",
        "path = \"https://drive.google.com/uc?export=download&id=\"+url.split(\"/\")[-2]\n",
        "products_cl = pd.read_csv(path)\n",
        "\n",
        "# brands_cl.csv\n",
        "url = \"https://drive.google.com/file/d/1XGyabaa4mAkjixMk3XPgx_14OoSse3rs/view?usp=sharing\" \n",
        "path = \"https://drive.google.com/uc?export=download&id=\"+url.split(\"/\")[-2]\n",
        "brands = pd.read_csv(path)"
      ],
      "metadata": {
        "id": "30IJsE7t49Eu"
      },
      "execution_count": 2,
      "outputs": []
    },
    {
      "cell_type": "code",
      "source": [
        "products_cl[\"Name Length\"]= products_cl[\"name\"].str.len()"
      ],
      "metadata": {
        "id": "fQUQofMrehRD"
      },
      "execution_count": 3,
      "outputs": []
    },
    {
      "cell_type": "code",
      "source": [
        "(products_cl['name'].str.len() < 10)"
      ],
      "metadata": {
        "colab": {
          "base_uri": "https://localhost:8080/"
        },
        "id": "pl-3SYQre0nN",
        "outputId": "8e504b81-73a3-4375-9f9a-2760ea020ebc"
      },
      "execution_count": 4,
      "outputs": [
        {
          "output_type": "execute_result",
          "data": {
            "text/plain": [
              "0       False\n",
              "1       False\n",
              "2       False\n",
              "3       False\n",
              "4       False\n",
              "        ...  \n",
              "9987    False\n",
              "9988    False\n",
              "9989    False\n",
              "9990    False\n",
              "9991    False\n",
              "Name: name, Length: 9992, dtype: bool"
            ]
          },
          "metadata": {},
          "execution_count": 4
        }
      ]
    },
    {
      "cell_type": "code",
      "source": [
        "ol_df = orderlines_cl.copy()"
      ],
      "metadata": {
        "id": "97-FGws5RzTk"
      },
      "execution_count": 5,
      "outputs": []
    },
    {
      "cell_type": "code",
      "source": [
        "ol_df.info()"
      ],
      "metadata": {
        "colab": {
          "base_uri": "https://localhost:8080/"
        },
        "id": "sD3zRjTyk-9h",
        "outputId": "f14a1694-9840-4747-aa16-73de0a61e7a8"
      },
      "execution_count": 6,
      "outputs": [
        {
          "output_type": "stream",
          "name": "stdout",
          "text": [
            "<class 'pandas.core.frame.DataFrame'>\n",
            "RangeIndex: 216250 entries, 0 to 216249\n",
            "Data columns (total 7 columns):\n",
            " #   Column            Non-Null Count   Dtype  \n",
            "---  ------            --------------   -----  \n",
            " 0   id                216250 non-null  int64  \n",
            " 1   id_order          216250 non-null  int64  \n",
            " 2   product_id        216250 non-null  int64  \n",
            " 3   product_quantity  216250 non-null  int64  \n",
            " 4   sku               216250 non-null  object \n",
            " 5   unit_price        216250 non-null  float64\n",
            " 6   date              216250 non-null  object \n",
            "dtypes: float64(1), int64(4), object(2)\n",
            "memory usage: 11.5+ MB\n"
          ]
        }
      ]
    },
    {
      "cell_type": "markdown",
      "source": [
        "Change `date` to datetime."
      ],
      "metadata": {
        "id": "O5JVxtyQnzLV"
      }
    },
    {
      "cell_type": "code",
      "source": [
        "ol_df[\"date\"] = pd.to_datetime(ol_df[\"date\"])"
      ],
      "metadata": {
        "id": "MxwG7CJ9lIQB"
      },
      "execution_count": 7,
      "outputs": []
    },
    {
      "cell_type": "markdown",
      "source": [
        "## 1.&nbsp; `.groupby` a single feature"
      ],
      "metadata": {
        "id": "BXWNhA9C2KsO"
      }
    },
    {
      "cell_type": "code",
      "source": [
        "ol_df.groupby(\"sku\").count()"
      ],
      "metadata": {
        "colab": {
          "base_uri": "https://localhost:8080/",
          "height": 455
        },
        "id": "4WAJ97U7Ryp8",
        "outputId": "58414a4b-e918-4c04-ad29-0d248d7bb124"
      },
      "execution_count": 8,
      "outputs": [
        {
          "output_type": "execute_result",
          "data": {
            "text/plain": [
              "           id  id_order  product_id  product_quantity  unit_price  date\n",
              "sku                                                                    \n",
              "8MO0001-A   2         2           2                 2           2     2\n",
              "8MO0003-A   3         3           3                 3           3     3\n",
              "8MO0007    29        29          29                29          29    29\n",
              "8MO0008    30        30          30                30          30    30\n",
              "8MO0009    28        28          28                28          28    28\n",
              "...        ..       ...         ...               ...         ...   ...\n",
              "ZAG0041     2         2           2                 2           2     2\n",
              "ZAG0042     1         1           1                 1           1     1\n",
              "ZEP0007     5         5           5                 5           5     5\n",
              "ZEP0008     1         1           1                 1           1     1\n",
              "par0072    12        12          12                12          12    12\n",
              "\n",
              "[6798 rows x 6 columns]"
            ],
            "text/html": [
              "\n",
              "  <div id=\"df-1b563b07-08e9-42a6-9405-43d80fb7ec04\">\n",
              "    <div class=\"colab-df-container\">\n",
              "      <div>\n",
              "<style scoped>\n",
              "    .dataframe tbody tr th:only-of-type {\n",
              "        vertical-align: middle;\n",
              "    }\n",
              "\n",
              "    .dataframe tbody tr th {\n",
              "        vertical-align: top;\n",
              "    }\n",
              "\n",
              "    .dataframe thead th {\n",
              "        text-align: right;\n",
              "    }\n",
              "</style>\n",
              "<table border=\"1\" class=\"dataframe\">\n",
              "  <thead>\n",
              "    <tr style=\"text-align: right;\">\n",
              "      <th></th>\n",
              "      <th>id</th>\n",
              "      <th>id_order</th>\n",
              "      <th>product_id</th>\n",
              "      <th>product_quantity</th>\n",
              "      <th>unit_price</th>\n",
              "      <th>date</th>\n",
              "    </tr>\n",
              "    <tr>\n",
              "      <th>sku</th>\n",
              "      <th></th>\n",
              "      <th></th>\n",
              "      <th></th>\n",
              "      <th></th>\n",
              "      <th></th>\n",
              "      <th></th>\n",
              "    </tr>\n",
              "  </thead>\n",
              "  <tbody>\n",
              "    <tr>\n",
              "      <th>8MO0001-A</th>\n",
              "      <td>2</td>\n",
              "      <td>2</td>\n",
              "      <td>2</td>\n",
              "      <td>2</td>\n",
              "      <td>2</td>\n",
              "      <td>2</td>\n",
              "    </tr>\n",
              "    <tr>\n",
              "      <th>8MO0003-A</th>\n",
              "      <td>3</td>\n",
              "      <td>3</td>\n",
              "      <td>3</td>\n",
              "      <td>3</td>\n",
              "      <td>3</td>\n",
              "      <td>3</td>\n",
              "    </tr>\n",
              "    <tr>\n",
              "      <th>8MO0007</th>\n",
              "      <td>29</td>\n",
              "      <td>29</td>\n",
              "      <td>29</td>\n",
              "      <td>29</td>\n",
              "      <td>29</td>\n",
              "      <td>29</td>\n",
              "    </tr>\n",
              "    <tr>\n",
              "      <th>8MO0008</th>\n",
              "      <td>30</td>\n",
              "      <td>30</td>\n",
              "      <td>30</td>\n",
              "      <td>30</td>\n",
              "      <td>30</td>\n",
              "      <td>30</td>\n",
              "    </tr>\n",
              "    <tr>\n",
              "      <th>8MO0009</th>\n",
              "      <td>28</td>\n",
              "      <td>28</td>\n",
              "      <td>28</td>\n",
              "      <td>28</td>\n",
              "      <td>28</td>\n",
              "      <td>28</td>\n",
              "    </tr>\n",
              "    <tr>\n",
              "      <th>...</th>\n",
              "      <td>...</td>\n",
              "      <td>...</td>\n",
              "      <td>...</td>\n",
              "      <td>...</td>\n",
              "      <td>...</td>\n",
              "      <td>...</td>\n",
              "    </tr>\n",
              "    <tr>\n",
              "      <th>ZAG0041</th>\n",
              "      <td>2</td>\n",
              "      <td>2</td>\n",
              "      <td>2</td>\n",
              "      <td>2</td>\n",
              "      <td>2</td>\n",
              "      <td>2</td>\n",
              "    </tr>\n",
              "    <tr>\n",
              "      <th>ZAG0042</th>\n",
              "      <td>1</td>\n",
              "      <td>1</td>\n",
              "      <td>1</td>\n",
              "      <td>1</td>\n",
              "      <td>1</td>\n",
              "      <td>1</td>\n",
              "    </tr>\n",
              "    <tr>\n",
              "      <th>ZEP0007</th>\n",
              "      <td>5</td>\n",
              "      <td>5</td>\n",
              "      <td>5</td>\n",
              "      <td>5</td>\n",
              "      <td>5</td>\n",
              "      <td>5</td>\n",
              "    </tr>\n",
              "    <tr>\n",
              "      <th>ZEP0008</th>\n",
              "      <td>1</td>\n",
              "      <td>1</td>\n",
              "      <td>1</td>\n",
              "      <td>1</td>\n",
              "      <td>1</td>\n",
              "      <td>1</td>\n",
              "    </tr>\n",
              "    <tr>\n",
              "      <th>par0072</th>\n",
              "      <td>12</td>\n",
              "      <td>12</td>\n",
              "      <td>12</td>\n",
              "      <td>12</td>\n",
              "      <td>12</td>\n",
              "      <td>12</td>\n",
              "    </tr>\n",
              "  </tbody>\n",
              "</table>\n",
              "<p>6798 rows × 6 columns</p>\n",
              "</div>\n",
              "      <button class=\"colab-df-convert\" onclick=\"convertToInteractive('df-1b563b07-08e9-42a6-9405-43d80fb7ec04')\"\n",
              "              title=\"Convert this dataframe to an interactive table.\"\n",
              "              style=\"display:none;\">\n",
              "        \n",
              "  <svg xmlns=\"http://www.w3.org/2000/svg\" height=\"24px\"viewBox=\"0 0 24 24\"\n",
              "       width=\"24px\">\n",
              "    <path d=\"M0 0h24v24H0V0z\" fill=\"none\"/>\n",
              "    <path d=\"M18.56 5.44l.94 2.06.94-2.06 2.06-.94-2.06-.94-.94-2.06-.94 2.06-2.06.94zm-11 1L8.5 8.5l.94-2.06 2.06-.94-2.06-.94L8.5 2.5l-.94 2.06-2.06.94zm10 10l.94 2.06.94-2.06 2.06-.94-2.06-.94-.94-2.06-.94 2.06-2.06.94z\"/><path d=\"M17.41 7.96l-1.37-1.37c-.4-.4-.92-.59-1.43-.59-.52 0-1.04.2-1.43.59L10.3 9.45l-7.72 7.72c-.78.78-.78 2.05 0 2.83L4 21.41c.39.39.9.59 1.41.59.51 0 1.02-.2 1.41-.59l7.78-7.78 2.81-2.81c.8-.78.8-2.07 0-2.86zM5.41 20L4 18.59l7.72-7.72 1.47 1.35L5.41 20z\"/>\n",
              "  </svg>\n",
              "      </button>\n",
              "      \n",
              "  <style>\n",
              "    .colab-df-container {\n",
              "      display:flex;\n",
              "      flex-wrap:wrap;\n",
              "      gap: 12px;\n",
              "    }\n",
              "\n",
              "    .colab-df-convert {\n",
              "      background-color: #E8F0FE;\n",
              "      border: none;\n",
              "      border-radius: 50%;\n",
              "      cursor: pointer;\n",
              "      display: none;\n",
              "      fill: #1967D2;\n",
              "      height: 32px;\n",
              "      padding: 0 0 0 0;\n",
              "      width: 32px;\n",
              "    }\n",
              "\n",
              "    .colab-df-convert:hover {\n",
              "      background-color: #E2EBFA;\n",
              "      box-shadow: 0px 1px 2px rgba(60, 64, 67, 0.3), 0px 1px 3px 1px rgba(60, 64, 67, 0.15);\n",
              "      fill: #174EA6;\n",
              "    }\n",
              "\n",
              "    [theme=dark] .colab-df-convert {\n",
              "      background-color: #3B4455;\n",
              "      fill: #D2E3FC;\n",
              "    }\n",
              "\n",
              "    [theme=dark] .colab-df-convert:hover {\n",
              "      background-color: #434B5C;\n",
              "      box-shadow: 0px 1px 3px 1px rgba(0, 0, 0, 0.15);\n",
              "      filter: drop-shadow(0px 1px 2px rgba(0, 0, 0, 0.3));\n",
              "      fill: #FFFFFF;\n",
              "    }\n",
              "  </style>\n",
              "\n",
              "      <script>\n",
              "        const buttonEl =\n",
              "          document.querySelector('#df-1b563b07-08e9-42a6-9405-43d80fb7ec04 button.colab-df-convert');\n",
              "        buttonEl.style.display =\n",
              "          google.colab.kernel.accessAllowed ? 'block' : 'none';\n",
              "\n",
              "        async function convertToInteractive(key) {\n",
              "          const element = document.querySelector('#df-1b563b07-08e9-42a6-9405-43d80fb7ec04');\n",
              "          const dataTable =\n",
              "            await google.colab.kernel.invokeFunction('convertToInteractive',\n",
              "                                                     [key], {});\n",
              "          if (!dataTable) return;\n",
              "\n",
              "          const docLinkHtml = 'Like what you see? Visit the ' +\n",
              "            '<a target=\"_blank\" href=https://colab.research.google.com/notebooks/data_table.ipynb>data table notebook</a>'\n",
              "            + ' to learn more about interactive tables.';\n",
              "          element.innerHTML = '';\n",
              "          dataTable['output_type'] = 'display_data';\n",
              "          await google.colab.output.renderOutput(dataTable, element);\n",
              "          const docLink = document.createElement('div');\n",
              "          docLink.innerHTML = docLinkHtml;\n",
              "          element.appendChild(docLink);\n",
              "        }\n",
              "      </script>\n",
              "    </div>\n",
              "  </div>\n",
              "  "
            ]
          },
          "metadata": {},
          "execution_count": 8
        }
      ]
    },
    {
      "cell_type": "code",
      "source": [
        "ol_df.shape"
      ],
      "metadata": {
        "colab": {
          "base_uri": "https://localhost:8080/"
        },
        "id": "fRrHMdH1Fgpf",
        "outputId": "22adc12f-604c-4772-cedc-a36d5dc625c3"
      },
      "execution_count": 9,
      "outputs": [
        {
          "output_type": "execute_result",
          "data": {
            "text/plain": [
              "(216250, 7)"
            ]
          },
          "metadata": {},
          "execution_count": 9
        }
      ]
    },
    {
      "cell_type": "code",
      "source": [
        "ol_df.groupby(\"sku\").sum()"
      ],
      "metadata": {
        "colab": {
          "base_uri": "https://localhost:8080/",
          "height": 509
        },
        "id": "UJhFi7a3Vr7c",
        "outputId": "e5082045-6cc6-4c94-ab50-499b8a488de8"
      },
      "execution_count": 10,
      "outputs": [
        {
          "output_type": "stream",
          "name": "stderr",
          "text": [
            "<ipython-input-10-ec0d4021f489>:1: FutureWarning: The default value of numeric_only in DataFrameGroupBy.sum is deprecated. In a future version, numeric_only will default to False. Either specify numeric_only or select only columns which should be valid for the function.\n",
            "  ol_df.groupby(\"sku\").sum()\n"
          ]
        },
        {
          "output_type": "execute_result",
          "data": {
            "text/plain": [
              "                 id  id_order  product_id  product_quantity  unit_price\n",
              "sku                                                                    \n",
              "8MO0001-A   2731953    813237           0                 2       25.92\n",
              "8MO0003-A   4893267   1557627           0                 3       38.55\n",
              "8MO0007    37205508  10794389           0                30      619.71\n",
              "8MO0008    38188229  11034203           0                31      651.70\n",
              "8MO0009    40281947  12270595           0                30      499.60\n",
              "...             ...       ...         ...               ...         ...\n",
              "ZAG0041     3289730   1050270           0                 2       39.98\n",
              "ZAG0042     1641159    523690           0                 1       19.99\n",
              "ZEP0007     6423489   1858331           0                 5      685.59\n",
              "ZEP0008     1508929    468546           0                 1      104.12\n",
              "par0072    16643352   4997995           0                13     2689.90\n",
              "\n",
              "[6798 rows x 5 columns]"
            ],
            "text/html": [
              "\n",
              "  <div id=\"df-e6ded873-7fc1-483f-8333-8cce90cdd459\">\n",
              "    <div class=\"colab-df-container\">\n",
              "      <div>\n",
              "<style scoped>\n",
              "    .dataframe tbody tr th:only-of-type {\n",
              "        vertical-align: middle;\n",
              "    }\n",
              "\n",
              "    .dataframe tbody tr th {\n",
              "        vertical-align: top;\n",
              "    }\n",
              "\n",
              "    .dataframe thead th {\n",
              "        text-align: right;\n",
              "    }\n",
              "</style>\n",
              "<table border=\"1\" class=\"dataframe\">\n",
              "  <thead>\n",
              "    <tr style=\"text-align: right;\">\n",
              "      <th></th>\n",
              "      <th>id</th>\n",
              "      <th>id_order</th>\n",
              "      <th>product_id</th>\n",
              "      <th>product_quantity</th>\n",
              "      <th>unit_price</th>\n",
              "    </tr>\n",
              "    <tr>\n",
              "      <th>sku</th>\n",
              "      <th></th>\n",
              "      <th></th>\n",
              "      <th></th>\n",
              "      <th></th>\n",
              "      <th></th>\n",
              "    </tr>\n",
              "  </thead>\n",
              "  <tbody>\n",
              "    <tr>\n",
              "      <th>8MO0001-A</th>\n",
              "      <td>2731953</td>\n",
              "      <td>813237</td>\n",
              "      <td>0</td>\n",
              "      <td>2</td>\n",
              "      <td>25.92</td>\n",
              "    </tr>\n",
              "    <tr>\n",
              "      <th>8MO0003-A</th>\n",
              "      <td>4893267</td>\n",
              "      <td>1557627</td>\n",
              "      <td>0</td>\n",
              "      <td>3</td>\n",
              "      <td>38.55</td>\n",
              "    </tr>\n",
              "    <tr>\n",
              "      <th>8MO0007</th>\n",
              "      <td>37205508</td>\n",
              "      <td>10794389</td>\n",
              "      <td>0</td>\n",
              "      <td>30</td>\n",
              "      <td>619.71</td>\n",
              "    </tr>\n",
              "    <tr>\n",
              "      <th>8MO0008</th>\n",
              "      <td>38188229</td>\n",
              "      <td>11034203</td>\n",
              "      <td>0</td>\n",
              "      <td>31</td>\n",
              "      <td>651.70</td>\n",
              "    </tr>\n",
              "    <tr>\n",
              "      <th>8MO0009</th>\n",
              "      <td>40281947</td>\n",
              "      <td>12270595</td>\n",
              "      <td>0</td>\n",
              "      <td>30</td>\n",
              "      <td>499.60</td>\n",
              "    </tr>\n",
              "    <tr>\n",
              "      <th>...</th>\n",
              "      <td>...</td>\n",
              "      <td>...</td>\n",
              "      <td>...</td>\n",
              "      <td>...</td>\n",
              "      <td>...</td>\n",
              "    </tr>\n",
              "    <tr>\n",
              "      <th>ZAG0041</th>\n",
              "      <td>3289730</td>\n",
              "      <td>1050270</td>\n",
              "      <td>0</td>\n",
              "      <td>2</td>\n",
              "      <td>39.98</td>\n",
              "    </tr>\n",
              "    <tr>\n",
              "      <th>ZAG0042</th>\n",
              "      <td>1641159</td>\n",
              "      <td>523690</td>\n",
              "      <td>0</td>\n",
              "      <td>1</td>\n",
              "      <td>19.99</td>\n",
              "    </tr>\n",
              "    <tr>\n",
              "      <th>ZEP0007</th>\n",
              "      <td>6423489</td>\n",
              "      <td>1858331</td>\n",
              "      <td>0</td>\n",
              "      <td>5</td>\n",
              "      <td>685.59</td>\n",
              "    </tr>\n",
              "    <tr>\n",
              "      <th>ZEP0008</th>\n",
              "      <td>1508929</td>\n",
              "      <td>468546</td>\n",
              "      <td>0</td>\n",
              "      <td>1</td>\n",
              "      <td>104.12</td>\n",
              "    </tr>\n",
              "    <tr>\n",
              "      <th>par0072</th>\n",
              "      <td>16643352</td>\n",
              "      <td>4997995</td>\n",
              "      <td>0</td>\n",
              "      <td>13</td>\n",
              "      <td>2689.90</td>\n",
              "    </tr>\n",
              "  </tbody>\n",
              "</table>\n",
              "<p>6798 rows × 5 columns</p>\n",
              "</div>\n",
              "      <button class=\"colab-df-convert\" onclick=\"convertToInteractive('df-e6ded873-7fc1-483f-8333-8cce90cdd459')\"\n",
              "              title=\"Convert this dataframe to an interactive table.\"\n",
              "              style=\"display:none;\">\n",
              "        \n",
              "  <svg xmlns=\"http://www.w3.org/2000/svg\" height=\"24px\"viewBox=\"0 0 24 24\"\n",
              "       width=\"24px\">\n",
              "    <path d=\"M0 0h24v24H0V0z\" fill=\"none\"/>\n",
              "    <path d=\"M18.56 5.44l.94 2.06.94-2.06 2.06-.94-2.06-.94-.94-2.06-.94 2.06-2.06.94zm-11 1L8.5 8.5l.94-2.06 2.06-.94-2.06-.94L8.5 2.5l-.94 2.06-2.06.94zm10 10l.94 2.06.94-2.06 2.06-.94-2.06-.94-.94-2.06-.94 2.06-2.06.94z\"/><path d=\"M17.41 7.96l-1.37-1.37c-.4-.4-.92-.59-1.43-.59-.52 0-1.04.2-1.43.59L10.3 9.45l-7.72 7.72c-.78.78-.78 2.05 0 2.83L4 21.41c.39.39.9.59 1.41.59.51 0 1.02-.2 1.41-.59l7.78-7.78 2.81-2.81c.8-.78.8-2.07 0-2.86zM5.41 20L4 18.59l7.72-7.72 1.47 1.35L5.41 20z\"/>\n",
              "  </svg>\n",
              "      </button>\n",
              "      \n",
              "  <style>\n",
              "    .colab-df-container {\n",
              "      display:flex;\n",
              "      flex-wrap:wrap;\n",
              "      gap: 12px;\n",
              "    }\n",
              "\n",
              "    .colab-df-convert {\n",
              "      background-color: #E8F0FE;\n",
              "      border: none;\n",
              "      border-radius: 50%;\n",
              "      cursor: pointer;\n",
              "      display: none;\n",
              "      fill: #1967D2;\n",
              "      height: 32px;\n",
              "      padding: 0 0 0 0;\n",
              "      width: 32px;\n",
              "    }\n",
              "\n",
              "    .colab-df-convert:hover {\n",
              "      background-color: #E2EBFA;\n",
              "      box-shadow: 0px 1px 2px rgba(60, 64, 67, 0.3), 0px 1px 3px 1px rgba(60, 64, 67, 0.15);\n",
              "      fill: #174EA6;\n",
              "    }\n",
              "\n",
              "    [theme=dark] .colab-df-convert {\n",
              "      background-color: #3B4455;\n",
              "      fill: #D2E3FC;\n",
              "    }\n",
              "\n",
              "    [theme=dark] .colab-df-convert:hover {\n",
              "      background-color: #434B5C;\n",
              "      box-shadow: 0px 1px 3px 1px rgba(0, 0, 0, 0.15);\n",
              "      filter: drop-shadow(0px 1px 2px rgba(0, 0, 0, 0.3));\n",
              "      fill: #FFFFFF;\n",
              "    }\n",
              "  </style>\n",
              "\n",
              "      <script>\n",
              "        const buttonEl =\n",
              "          document.querySelector('#df-e6ded873-7fc1-483f-8333-8cce90cdd459 button.colab-df-convert');\n",
              "        buttonEl.style.display =\n",
              "          google.colab.kernel.accessAllowed ? 'block' : 'none';\n",
              "\n",
              "        async function convertToInteractive(key) {\n",
              "          const element = document.querySelector('#df-e6ded873-7fc1-483f-8333-8cce90cdd459');\n",
              "          const dataTable =\n",
              "            await google.colab.kernel.invokeFunction('convertToInteractive',\n",
              "                                                     [key], {});\n",
              "          if (!dataTable) return;\n",
              "\n",
              "          const docLinkHtml = 'Like what you see? Visit the ' +\n",
              "            '<a target=\"_blank\" href=https://colab.research.google.com/notebooks/data_table.ipynb>data table notebook</a>'\n",
              "            + ' to learn more about interactive tables.';\n",
              "          element.innerHTML = '';\n",
              "          dataTable['output_type'] = 'display_data';\n",
              "          await google.colab.output.renderOutput(dataTable, element);\n",
              "          const docLink = document.createElement('div');\n",
              "          docLink.innerHTML = docLinkHtml;\n",
              "          element.appendChild(docLink);\n",
              "        }\n",
              "      </script>\n",
              "    </div>\n",
              "  </div>\n",
              "  "
            ]
          },
          "metadata": {},
          "execution_count": 10
        }
      ]
    },
    {
      "cell_type": "code",
      "source": [
        "ol_df.groupby([\"sku\"])[\"product_quantity\"].sum()"
      ],
      "metadata": {
        "colab": {
          "base_uri": "https://localhost:8080/"
        },
        "id": "156UzFjzSpuS",
        "outputId": "0ac48646-7976-45a7-80a9-af37d415657c"
      },
      "execution_count": 11,
      "outputs": [
        {
          "output_type": "execute_result",
          "data": {
            "text/plain": [
              "sku\n",
              "8MO0001-A     2\n",
              "8MO0003-A     3\n",
              "8MO0007      30\n",
              "8MO0008      31\n",
              "8MO0009      30\n",
              "             ..\n",
              "ZAG0041       2\n",
              "ZAG0042       1\n",
              "ZEP0007       5\n",
              "ZEP0008       1\n",
              "par0072      13\n",
              "Name: product_quantity, Length: 6798, dtype: int64"
            ]
          },
          "metadata": {},
          "execution_count": 11
        }
      ]
    },
    {
      "cell_type": "code",
      "source": [
        "(\n",
        "    ol_df\n",
        "    .groupby([\"sku\"])[\"product_quantity\"]\n",
        "    .sum()\n",
        "    .sort_values(ascending=False)\n",
        ")"
      ],
      "metadata": {
        "colab": {
          "base_uri": "https://localhost:8080/"
        },
        "id": "A99m-tRCT9RK",
        "outputId": "2d80247e-a3e9-4697-838d-7c2118861080"
      },
      "execution_count": 12,
      "outputs": [
        {
          "output_type": "execute_result",
          "data": {
            "text/plain": [
              "sku\n",
              "APP1190      5576\n",
              "APP0698      2337\n",
              "WDT0183      1828\n",
              "APP1922      1663\n",
              "APP0927      1618\n",
              "             ... \n",
              "PAC2241         1\n",
              "JBL0156         1\n",
              "PAC2237         1\n",
              "TIG0018-A       1\n",
              "APP0241-A       1\n",
              "Name: product_quantity, Length: 6798, dtype: int64"
            ]
          },
          "metadata": {},
          "execution_count": 12
        }
      ]
    },
    {
      "cell_type": "code",
      "source": [
        "ol_df.groupby([\"sku\"])"
      ],
      "metadata": {
        "colab": {
          "base_uri": "https://localhost:8080/"
        },
        "id": "yHoRT_533t6G",
        "outputId": "45ff16ea-c400-47ef-fad1-fe60d9b9cd3d"
      },
      "execution_count": 13,
      "outputs": [
        {
          "output_type": "execute_result",
          "data": {
            "text/plain": [
              "<pandas.core.groupby.generic.DataFrameGroupBy object at 0x7fd4a4f0e190>"
            ]
          },
          "metadata": {},
          "execution_count": 13
        }
      ]
    },
    {
      "cell_type": "code",
      "source": [
        "(\n",
        "    ol_df\n",
        "    .groupby([\"sku\"])[\"product_quantity\"]\n",
        "    .sum()\n",
        "    .nlargest(5)\n",
        ")"
      ],
      "metadata": {
        "colab": {
          "base_uri": "https://localhost:8080/"
        },
        "id": "jPKxQPDen0tO",
        "outputId": "17c1aa59-3209-4410-f9a0-a1f061d92798"
      },
      "execution_count": 14,
      "outputs": [
        {
          "output_type": "execute_result",
          "data": {
            "text/plain": [
              "sku\n",
              "APP1190    5576\n",
              "APP0698    2337\n",
              "WDT0183    1828\n",
              "APP1922    1663\n",
              "APP0927    1618\n",
              "Name: product_quantity, dtype: int64"
            ]
          },
          "metadata": {},
          "execution_count": 14
        }
      ]
    },
    {
      "cell_type": "markdown",
      "source": [
        "### 1.1.&nbsp; Aggregates\n"
      ],
      "metadata": {
        "id": "A8fNKlbMkC9c"
      }
    },
    {
      "cell_type": "markdown",
      "source": [
        "### 1.2.&nbsp; `.agg()`"
      ],
      "metadata": {
        "id": "2hCaahyEki_6"
      }
    },
    {
      "cell_type": "markdown",
      "source": [
        "#### 1.2.1.&nbsp; multiple aggregates for one column\n"
      ],
      "metadata": {
        "id": "_4uueTuf_Ypk"
      }
    },
    {
      "cell_type": "code",
      "source": [
        "(\n",
        "    ol_df\n",
        "    .groupby([\"sku\"])[\"product_quantity\"]\n",
        "    .agg([\"sum\", \"count\"])\n",
        "    .nlargest(10, \"sum\")\n",
        ")"
      ],
      "metadata": {
        "colab": {
          "base_uri": "https://localhost:8080/",
          "height": 394
        },
        "id": "AMktUr14kGv0",
        "outputId": "51f33d07-2220-4c9d-c869-97e759e1b389"
      },
      "execution_count": 15,
      "outputs": [
        {
          "output_type": "execute_result",
          "data": {
            "text/plain": [
              "          sum  count\n",
              "sku                 \n",
              "APP1190  5576   4306\n",
              "APP0698  2337   1615\n",
              "WDT0183  1828   1124\n",
              "APP1922  1663   1560\n",
              "APP0927  1618   1369\n",
              "SAM0074  1346   1259\n",
              "APP1970  1182   1007\n",
              "APP1221  1131   1108\n",
              "CRU0051  1122    948\n",
              "WDT0141  1048    671"
            ],
            "text/html": [
              "\n",
              "  <div id=\"df-08e4fb14-6759-4fa6-9754-e6f6c2e5f203\">\n",
              "    <div class=\"colab-df-container\">\n",
              "      <div>\n",
              "<style scoped>\n",
              "    .dataframe tbody tr th:only-of-type {\n",
              "        vertical-align: middle;\n",
              "    }\n",
              "\n",
              "    .dataframe tbody tr th {\n",
              "        vertical-align: top;\n",
              "    }\n",
              "\n",
              "    .dataframe thead th {\n",
              "        text-align: right;\n",
              "    }\n",
              "</style>\n",
              "<table border=\"1\" class=\"dataframe\">\n",
              "  <thead>\n",
              "    <tr style=\"text-align: right;\">\n",
              "      <th></th>\n",
              "      <th>sum</th>\n",
              "      <th>count</th>\n",
              "    </tr>\n",
              "    <tr>\n",
              "      <th>sku</th>\n",
              "      <th></th>\n",
              "      <th></th>\n",
              "    </tr>\n",
              "  </thead>\n",
              "  <tbody>\n",
              "    <tr>\n",
              "      <th>APP1190</th>\n",
              "      <td>5576</td>\n",
              "      <td>4306</td>\n",
              "    </tr>\n",
              "    <tr>\n",
              "      <th>APP0698</th>\n",
              "      <td>2337</td>\n",
              "      <td>1615</td>\n",
              "    </tr>\n",
              "    <tr>\n",
              "      <th>WDT0183</th>\n",
              "      <td>1828</td>\n",
              "      <td>1124</td>\n",
              "    </tr>\n",
              "    <tr>\n",
              "      <th>APP1922</th>\n",
              "      <td>1663</td>\n",
              "      <td>1560</td>\n",
              "    </tr>\n",
              "    <tr>\n",
              "      <th>APP0927</th>\n",
              "      <td>1618</td>\n",
              "      <td>1369</td>\n",
              "    </tr>\n",
              "    <tr>\n",
              "      <th>SAM0074</th>\n",
              "      <td>1346</td>\n",
              "      <td>1259</td>\n",
              "    </tr>\n",
              "    <tr>\n",
              "      <th>APP1970</th>\n",
              "      <td>1182</td>\n",
              "      <td>1007</td>\n",
              "    </tr>\n",
              "    <tr>\n",
              "      <th>APP1221</th>\n",
              "      <td>1131</td>\n",
              "      <td>1108</td>\n",
              "    </tr>\n",
              "    <tr>\n",
              "      <th>CRU0051</th>\n",
              "      <td>1122</td>\n",
              "      <td>948</td>\n",
              "    </tr>\n",
              "    <tr>\n",
              "      <th>WDT0141</th>\n",
              "      <td>1048</td>\n",
              "      <td>671</td>\n",
              "    </tr>\n",
              "  </tbody>\n",
              "</table>\n",
              "</div>\n",
              "      <button class=\"colab-df-convert\" onclick=\"convertToInteractive('df-08e4fb14-6759-4fa6-9754-e6f6c2e5f203')\"\n",
              "              title=\"Convert this dataframe to an interactive table.\"\n",
              "              style=\"display:none;\">\n",
              "        \n",
              "  <svg xmlns=\"http://www.w3.org/2000/svg\" height=\"24px\"viewBox=\"0 0 24 24\"\n",
              "       width=\"24px\">\n",
              "    <path d=\"M0 0h24v24H0V0z\" fill=\"none\"/>\n",
              "    <path d=\"M18.56 5.44l.94 2.06.94-2.06 2.06-.94-2.06-.94-.94-2.06-.94 2.06-2.06.94zm-11 1L8.5 8.5l.94-2.06 2.06-.94-2.06-.94L8.5 2.5l-.94 2.06-2.06.94zm10 10l.94 2.06.94-2.06 2.06-.94-2.06-.94-.94-2.06-.94 2.06-2.06.94z\"/><path d=\"M17.41 7.96l-1.37-1.37c-.4-.4-.92-.59-1.43-.59-.52 0-1.04.2-1.43.59L10.3 9.45l-7.72 7.72c-.78.78-.78 2.05 0 2.83L4 21.41c.39.39.9.59 1.41.59.51 0 1.02-.2 1.41-.59l7.78-7.78 2.81-2.81c.8-.78.8-2.07 0-2.86zM5.41 20L4 18.59l7.72-7.72 1.47 1.35L5.41 20z\"/>\n",
              "  </svg>\n",
              "      </button>\n",
              "      \n",
              "  <style>\n",
              "    .colab-df-container {\n",
              "      display:flex;\n",
              "      flex-wrap:wrap;\n",
              "      gap: 12px;\n",
              "    }\n",
              "\n",
              "    .colab-df-convert {\n",
              "      background-color: #E8F0FE;\n",
              "      border: none;\n",
              "      border-radius: 50%;\n",
              "      cursor: pointer;\n",
              "      display: none;\n",
              "      fill: #1967D2;\n",
              "      height: 32px;\n",
              "      padding: 0 0 0 0;\n",
              "      width: 32px;\n",
              "    }\n",
              "\n",
              "    .colab-df-convert:hover {\n",
              "      background-color: #E2EBFA;\n",
              "      box-shadow: 0px 1px 2px rgba(60, 64, 67, 0.3), 0px 1px 3px 1px rgba(60, 64, 67, 0.15);\n",
              "      fill: #174EA6;\n",
              "    }\n",
              "\n",
              "    [theme=dark] .colab-df-convert {\n",
              "      background-color: #3B4455;\n",
              "      fill: #D2E3FC;\n",
              "    }\n",
              "\n",
              "    [theme=dark] .colab-df-convert:hover {\n",
              "      background-color: #434B5C;\n",
              "      box-shadow: 0px 1px 3px 1px rgba(0, 0, 0, 0.15);\n",
              "      filter: drop-shadow(0px 1px 2px rgba(0, 0, 0, 0.3));\n",
              "      fill: #FFFFFF;\n",
              "    }\n",
              "  </style>\n",
              "\n",
              "      <script>\n",
              "        const buttonEl =\n",
              "          document.querySelector('#df-08e4fb14-6759-4fa6-9754-e6f6c2e5f203 button.colab-df-convert');\n",
              "        buttonEl.style.display =\n",
              "          google.colab.kernel.accessAllowed ? 'block' : 'none';\n",
              "\n",
              "        async function convertToInteractive(key) {\n",
              "          const element = document.querySelector('#df-08e4fb14-6759-4fa6-9754-e6f6c2e5f203');\n",
              "          const dataTable =\n",
              "            await google.colab.kernel.invokeFunction('convertToInteractive',\n",
              "                                                     [key], {});\n",
              "          if (!dataTable) return;\n",
              "\n",
              "          const docLinkHtml = 'Like what you see? Visit the ' +\n",
              "            '<a target=\"_blank\" href=https://colab.research.google.com/notebooks/data_table.ipynb>data table notebook</a>'\n",
              "            + ' to learn more about interactive tables.';\n",
              "          element.innerHTML = '';\n",
              "          dataTable['output_type'] = 'display_data';\n",
              "          await google.colab.output.renderOutput(dataTable, element);\n",
              "          const docLink = document.createElement('div');\n",
              "          docLink.innerHTML = docLinkHtml;\n",
              "          element.appendChild(docLink);\n",
              "        }\n",
              "      </script>\n",
              "    </div>\n",
              "  </div>\n",
              "  "
            ]
          },
          "metadata": {},
          "execution_count": 15
        }
      ]
    },
    {
      "cell_type": "markdown",
      "source": [
        "#### 1.2.2.&nbsp; mutliple aggregates for more than one column"
      ],
      "metadata": {
        "id": "5TqpcLupNU7n"
      }
    },
    {
      "cell_type": "code",
      "source": [
        "(\n",
        "    ol_df\n",
        "    .groupby([\"sku\"])\n",
        "    .agg({\"product_quantity\": [\"sum\", \"count\"], \"unit_price\": \"mean\"})\n",
        "    .nlargest(10, (\"product_quantity\", \"sum\"))\n",
        ")"
      ],
      "metadata": {
        "colab": {
          "base_uri": "https://localhost:8080/",
          "height": 425
        },
        "id": "yGPFDBBl35VV",
        "outputId": "d9379f30-6de6-4d9b-b47b-59c944462402"
      },
      "execution_count": 16,
      "outputs": [
        {
          "output_type": "execute_result",
          "data": {
            "text/plain": [
              "        product_quantity        unit_price\n",
              "                     sum count        mean\n",
              "sku                                       \n",
              "APP1190             5576  4306   56.014057\n",
              "APP0698             2337  1615   10.116279\n",
              "WDT0183             1828  1124  139.061770\n",
              "APP1922             1663  1560  162.143968\n",
              "APP0927             1618  1369   17.038773\n",
              "SAM0074             1346  1259  152.823606\n",
              "APP1970             1182  1007  362.970417\n",
              "APP1221             1131  1108  106.131146\n",
              "CRU0051             1122   948  140.734863\n",
              "WDT0141             1048   671  109.266259"
            ],
            "text/html": [
              "\n",
              "  <div id=\"df-40b67249-05ed-442c-8224-fece77ea9b3a\">\n",
              "    <div class=\"colab-df-container\">\n",
              "      <div>\n",
              "<style scoped>\n",
              "    .dataframe tbody tr th:only-of-type {\n",
              "        vertical-align: middle;\n",
              "    }\n",
              "\n",
              "    .dataframe tbody tr th {\n",
              "        vertical-align: top;\n",
              "    }\n",
              "\n",
              "    .dataframe thead tr th {\n",
              "        text-align: left;\n",
              "    }\n",
              "\n",
              "    .dataframe thead tr:last-of-type th {\n",
              "        text-align: right;\n",
              "    }\n",
              "</style>\n",
              "<table border=\"1\" class=\"dataframe\">\n",
              "  <thead>\n",
              "    <tr>\n",
              "      <th></th>\n",
              "      <th colspan=\"2\" halign=\"left\">product_quantity</th>\n",
              "      <th>unit_price</th>\n",
              "    </tr>\n",
              "    <tr>\n",
              "      <th></th>\n",
              "      <th>sum</th>\n",
              "      <th>count</th>\n",
              "      <th>mean</th>\n",
              "    </tr>\n",
              "    <tr>\n",
              "      <th>sku</th>\n",
              "      <th></th>\n",
              "      <th></th>\n",
              "      <th></th>\n",
              "    </tr>\n",
              "  </thead>\n",
              "  <tbody>\n",
              "    <tr>\n",
              "      <th>APP1190</th>\n",
              "      <td>5576</td>\n",
              "      <td>4306</td>\n",
              "      <td>56.014057</td>\n",
              "    </tr>\n",
              "    <tr>\n",
              "      <th>APP0698</th>\n",
              "      <td>2337</td>\n",
              "      <td>1615</td>\n",
              "      <td>10.116279</td>\n",
              "    </tr>\n",
              "    <tr>\n",
              "      <th>WDT0183</th>\n",
              "      <td>1828</td>\n",
              "      <td>1124</td>\n",
              "      <td>139.061770</td>\n",
              "    </tr>\n",
              "    <tr>\n",
              "      <th>APP1922</th>\n",
              "      <td>1663</td>\n",
              "      <td>1560</td>\n",
              "      <td>162.143968</td>\n",
              "    </tr>\n",
              "    <tr>\n",
              "      <th>APP0927</th>\n",
              "      <td>1618</td>\n",
              "      <td>1369</td>\n",
              "      <td>17.038773</td>\n",
              "    </tr>\n",
              "    <tr>\n",
              "      <th>SAM0074</th>\n",
              "      <td>1346</td>\n",
              "      <td>1259</td>\n",
              "      <td>152.823606</td>\n",
              "    </tr>\n",
              "    <tr>\n",
              "      <th>APP1970</th>\n",
              "      <td>1182</td>\n",
              "      <td>1007</td>\n",
              "      <td>362.970417</td>\n",
              "    </tr>\n",
              "    <tr>\n",
              "      <th>APP1221</th>\n",
              "      <td>1131</td>\n",
              "      <td>1108</td>\n",
              "      <td>106.131146</td>\n",
              "    </tr>\n",
              "    <tr>\n",
              "      <th>CRU0051</th>\n",
              "      <td>1122</td>\n",
              "      <td>948</td>\n",
              "      <td>140.734863</td>\n",
              "    </tr>\n",
              "    <tr>\n",
              "      <th>WDT0141</th>\n",
              "      <td>1048</td>\n",
              "      <td>671</td>\n",
              "      <td>109.266259</td>\n",
              "    </tr>\n",
              "  </tbody>\n",
              "</table>\n",
              "</div>\n",
              "      <button class=\"colab-df-convert\" onclick=\"convertToInteractive('df-40b67249-05ed-442c-8224-fece77ea9b3a')\"\n",
              "              title=\"Convert this dataframe to an interactive table.\"\n",
              "              style=\"display:none;\">\n",
              "        \n",
              "  <svg xmlns=\"http://www.w3.org/2000/svg\" height=\"24px\"viewBox=\"0 0 24 24\"\n",
              "       width=\"24px\">\n",
              "    <path d=\"M0 0h24v24H0V0z\" fill=\"none\"/>\n",
              "    <path d=\"M18.56 5.44l.94 2.06.94-2.06 2.06-.94-2.06-.94-.94-2.06-.94 2.06-2.06.94zm-11 1L8.5 8.5l.94-2.06 2.06-.94-2.06-.94L8.5 2.5l-.94 2.06-2.06.94zm10 10l.94 2.06.94-2.06 2.06-.94-2.06-.94-.94-2.06-.94 2.06-2.06.94z\"/><path d=\"M17.41 7.96l-1.37-1.37c-.4-.4-.92-.59-1.43-.59-.52 0-1.04.2-1.43.59L10.3 9.45l-7.72 7.72c-.78.78-.78 2.05 0 2.83L4 21.41c.39.39.9.59 1.41.59.51 0 1.02-.2 1.41-.59l7.78-7.78 2.81-2.81c.8-.78.8-2.07 0-2.86zM5.41 20L4 18.59l7.72-7.72 1.47 1.35L5.41 20z\"/>\n",
              "  </svg>\n",
              "      </button>\n",
              "      \n",
              "  <style>\n",
              "    .colab-df-container {\n",
              "      display:flex;\n",
              "      flex-wrap:wrap;\n",
              "      gap: 12px;\n",
              "    }\n",
              "\n",
              "    .colab-df-convert {\n",
              "      background-color: #E8F0FE;\n",
              "      border: none;\n",
              "      border-radius: 50%;\n",
              "      cursor: pointer;\n",
              "      display: none;\n",
              "      fill: #1967D2;\n",
              "      height: 32px;\n",
              "      padding: 0 0 0 0;\n",
              "      width: 32px;\n",
              "    }\n",
              "\n",
              "    .colab-df-convert:hover {\n",
              "      background-color: #E2EBFA;\n",
              "      box-shadow: 0px 1px 2px rgba(60, 64, 67, 0.3), 0px 1px 3px 1px rgba(60, 64, 67, 0.15);\n",
              "      fill: #174EA6;\n",
              "    }\n",
              "\n",
              "    [theme=dark] .colab-df-convert {\n",
              "      background-color: #3B4455;\n",
              "      fill: #D2E3FC;\n",
              "    }\n",
              "\n",
              "    [theme=dark] .colab-df-convert:hover {\n",
              "      background-color: #434B5C;\n",
              "      box-shadow: 0px 1px 3px 1px rgba(0, 0, 0, 0.15);\n",
              "      filter: drop-shadow(0px 1px 2px rgba(0, 0, 0, 0.3));\n",
              "      fill: #FFFFFF;\n",
              "    }\n",
              "  </style>\n",
              "\n",
              "      <script>\n",
              "        const buttonEl =\n",
              "          document.querySelector('#df-40b67249-05ed-442c-8224-fece77ea9b3a button.colab-df-convert');\n",
              "        buttonEl.style.display =\n",
              "          google.colab.kernel.accessAllowed ? 'block' : 'none';\n",
              "\n",
              "        async function convertToInteractive(key) {\n",
              "          const element = document.querySelector('#df-40b67249-05ed-442c-8224-fece77ea9b3a');\n",
              "          const dataTable =\n",
              "            await google.colab.kernel.invokeFunction('convertToInteractive',\n",
              "                                                     [key], {});\n",
              "          if (!dataTable) return;\n",
              "\n",
              "          const docLinkHtml = 'Like what you see? Visit the ' +\n",
              "            '<a target=\"_blank\" href=https://colab.research.google.com/notebooks/data_table.ipynb>data table notebook</a>'\n",
              "            + ' to learn more about interactive tables.';\n",
              "          element.innerHTML = '';\n",
              "          dataTable['output_type'] = 'display_data';\n",
              "          await google.colab.output.renderOutput(dataTable, element);\n",
              "          const docLink = document.createElement('div');\n",
              "          docLink.innerHTML = docLinkHtml;\n",
              "          element.appendChild(docLink);\n",
              "        }\n",
              "      </script>\n",
              "    </div>\n",
              "  </div>\n",
              "  "
            ]
          },
          "metadata": {},
          "execution_count": 16
        }
      ]
    },
    {
      "cell_type": "markdown",
      "source": [
        "## 2.&nbsp; `.groupby()` multiple features"
      ],
      "metadata": {
        "id": "VtQqcHUj2bxn"
      }
    },
    {
      "cell_type": "code",
      "source": [
        "(\n",
        "    ol_df\n",
        "    .groupby([ol_df[\"date\"].dt.year, \n",
        "              ol_df[\"date\"].dt.month])[\"product_quantity\"]\n",
        "    .sum()\n",
        " )"
      ],
      "metadata": {
        "colab": {
          "base_uri": "https://localhost:8080/"
        },
        "id": "Gx3zB61ZX_NM",
        "outputId": "f387ffa0-b470-4117-f862-c80a7c2eae24"
      },
      "execution_count": 17,
      "outputs": [
        {
          "output_type": "execute_result",
          "data": {
            "text/plain": [
              "date  date\n",
              "2017  1       22363\n",
              "      2       14616\n",
              "      3       12443\n",
              "      4       13781\n",
              "      5       11665\n",
              "      6       11221\n",
              "      7       15347\n",
              "      8       11530\n",
              "      9       12213\n",
              "      10      15387\n",
              "      11      33082\n",
              "      12      24455\n",
              "2018  1       23810\n",
              "      2       15831\n",
              "      3        8067\n",
              "Name: product_quantity, dtype: int64"
            ]
          },
          "metadata": {},
          "execution_count": 17
        }
      ]
    },
    {
      "cell_type": "markdown",
      "source": [
        "### 1.4.&nbsp; `.groupby()` aggregate plotting\n"
      ],
      "metadata": {
        "id": "fhSTALCdHNs4"
      }
    },
    {
      "cell_type": "code",
      "source": [
        "(\n",
        "    ol_df.groupby([ol_df[\"date\"].dt.year, \n",
        "                   ol_df[\"date\"].dt.month])[\"product_quantity\"]\n",
        "    .sum()\n",
        "    .plot(figsize=(8, 4))\n",
        ");"
      ],
      "metadata": {
        "colab": {
          "base_uri": "https://localhost:8080/",
          "height": 388
        },
        "id": "fYcSi8rbvqkc",
        "outputId": "0a2db7ac-471b-41bc-f0f6-20301e75ba81"
      },
      "execution_count": 20,
      "outputs": [
        {
          "output_type": "display_data",
          "data": {
            "text/plain": [
              "<Figure size 800x400 with 1 Axes>"
            ],
            "image/png": "[encoded data removed]"
          },
          "metadata": {}
        }
      ]
    },
    {
      "cell_type": "markdown",
      "source": [
        "## 3.&nbsp; `.resample()`\n"
      ],
      "metadata": {
        "id": "6LDe4vd8wOJS"
      }
    },
    {
      "cell_type": "code",
      "source": [
        "(\n",
        "    ol_df\n",
        "    .resample(\"M\", on=\"date\")[\"product_quantity\"]\n",
        "    .sum()\n",
        "    .sort_values(ascending=False)\n",
        ")"
      ],
      "metadata": {
        "colab": {
          "base_uri": "https://localhost:8080/"
        },
        "id": "R8hb5n2zwfct",
        "outputId": "cf6876ad-5a97-49c7-fd27-0b44c7cbdfb4"
      },
      "execution_count": 21,
      "outputs": [
        {
          "output_type": "execute_result",
          "data": {
            "text/plain": [
              "date\n",
              "2017-11-30    33082\n",
              "2017-12-31    24455\n",
              "2018-01-31    23810\n",
              "2017-01-31    22363\n",
              "2018-02-28    15831\n",
              "2017-10-31    15387\n",
              "2017-07-31    15347\n",
              "2017-02-28    14616\n",
              "2017-04-30    13781\n",
              "2017-03-31    12443\n",
              "2017-09-30    12213\n",
              "2017-05-31    11665\n",
              "2017-08-31    11530\n",
              "2017-06-30    11221\n",
              "2018-03-31     8067\n",
              "Name: product_quantity, dtype: int64"
            ]
          },
          "metadata": {},
          "execution_count": 21
        }
      ]
    },
    {
      "cell_type": "code",
      "source": [
        "(\n",
        "    ol_df\n",
        "    .resample(\"D\", on=\"date\")\n",
        "    .sum()[\"product_quantity\"]\n",
        "    .plot(figsize=(8, 4))\n",
        " );"
      ],
      "metadata": {
        "colab": {
          "base_uri": "https://localhost:8080/",
          "height": 459
        },
        "id": "mJylW2glwdge",
        "outputId": "5a1ce6f0-2b24-4791-9249-db060faabf4f"
      },
      "execution_count": 22,
      "outputs": [
        {
          "output_type": "stream",
          "name": "stderr",
          "text": [
            "<ipython-input-22-095d31663c56>:2: FutureWarning: The default value of numeric_only in DataFrameGroupBy.sum is deprecated. In a future version, numeric_only will default to False. Either specify numeric_only or select only columns which should be valid for the function.\n",
            "  ol_df\n"
          ]
        },
        {
          "output_type": "display_data",
          "data": {
            "text/plain": [
              "<Figure size 800x400 with 1 Axes>"
            ],
            "image/png": "[encoded data removed]"
          },
          "metadata": {}
        }
      ]
    },
    {
      "cell_type": "code",
      "source": [
        "(\n",
        "    ol_df\n",
        "    .groupby([ol_df.date.dt.year, \n",
        "              ol_df.date.dt.month,\n",
        "              ol_df.date.dt.day])[\"product_quantity\"]\n",
        "    .sum()\n",
        "    .plot(figsize=(8, 4))\n",
        " );"
      ],
      "metadata": {
        "id": "L7LQ7w6Qrlnb",
        "colab": {
          "base_uri": "https://localhost:8080/",
          "height": 388
        },
        "outputId": "0a3f15d0-23d2-4016-9276-7e48a3e8cf20"
      },
      "execution_count": 24,
      "outputs": [
        {
          "output_type": "display_data",
          "data": {
            "text/plain": [
              "<Figure size 800x400 with 1 Axes>"
            ],
            "image/png": "[encoded data removed]"
          },
          "metadata": {}
        }
      ]
    },
    {
      "cell_type": "markdown",
      "source": [
        "# Challenges"
      ],
      "metadata": {
        "id": "m050CtFNk0aG"
      }
    },
    {
      "cell_type": "markdown",
      "source": [
        "## Challenge 1. What are the top 8 most sold products?"
      ],
      "metadata": {
        "id": "qzK9J3B2mWyT"
      }
    },
    {
      "cell_type": "code",
      "source": [
        "ol_df.groupby(\"sku\")[\"product_quantity\"].sum().nlargest(8)"
      ],
      "metadata": {
        "id": "ykMv1QQN5Ujx",
        "colab": {
          "base_uri": "https://localhost:8080/"
        },
        "outputId": "1b0696b4-20d7-4575-f29c-2b83b9146b38"
      },
      "execution_count": 25,
      "outputs": [
        {
          "output_type": "execute_result",
          "data": {
            "text/plain": [
              "sku\n",
              "APP1190    5576\n",
              "APP0698    2337\n",
              "WDT0183    1828\n",
              "APP1922    1663\n",
              "APP0927    1618\n",
              "SAM0074    1346\n",
              "APP1970    1182\n",
              "APP1221    1131\n",
              "Name: product_quantity, dtype: int64"
            ]
          },
          "metadata": {},
          "execution_count": 25
        }
      ]
    },
    {
      "cell_type": "markdown",
      "source": [
        "## Challenge 2. How many products did each of the 5 largest orders contain?"
      ],
      "metadata": {
        "id": "PXYMOnwWyfkf"
      }
    },
    {
      "cell_type": "code",
      "source": [
        "ol_df.groupby(\"id_order\")[\"product_quantity\"].sum().nlargest(5)"
      ],
      "metadata": {
        "id": "EStMw8mQ5hkz",
        "colab": {
          "base_uri": "https://localhost:8080/"
        },
        "outputId": "e789746a-6803-4324-8a8a-2c93dc7e08dc"
      },
      "execution_count": 26,
      "outputs": [
        {
          "output_type": "execute_result",
          "data": {
            "text/plain": [
              "id_order\n",
              "346221    999\n",
              "349475    800\n",
              "349133    555\n",
              "335057    202\n",
              "417536    200\n",
              "Name: product_quantity, dtype: int64"
            ]
          },
          "metadata": {},
          "execution_count": 26
        }
      ]
    },
    {
      "cell_type": "markdown",
      "source": [
        "## Challenge 3. We want to see how busy the days of the week are to know when we need more staff. Rank the days of the week from busiest to least busiest. \n",
        "Bonus points for using your pandas plotting skills."
      ],
      "metadata": {
        "id": "4LhlPkykEOZT"
      }
    },
    {
      "cell_type": "code",
      "source": [
        "o_test_df = orders_cl.copy()"
      ],
      "metadata": {
        "id": "vJFw9Tmrvswv"
      },
      "execution_count": 27,
      "outputs": []
    },
    {
      "cell_type": "code",
      "source": [
        "o_test_df[\"created_date\"] = pd.to_datetime(o_test_df[\"created_date\"])"
      ],
      "metadata": {
        "id": "5kGfTRcAwKkE"
      },
      "execution_count": 28,
      "outputs": []
    },
    {
      "cell_type": "code",
      "source": [
        "(\n",
        "    o_test_df\n",
        "    .groupby(o_test_df[\"created_date\"].dt.day_name())[\"order_id\"]\n",
        "    .count()\n",
        "    .sort_values()\n",
        "    .plot\n",
        "    .barh(figsize=(4,4), fontsize=8)\n",
        ");"
      ],
      "metadata": {
        "colab": {
          "base_uri": "https://localhost:8080/",
          "height": 364
        },
        "id": "-9_n7DM1CvnL",
        "outputId": "fe44c893-7250-4f8c-db8b-3d8029f9de59"
      },
      "execution_count": 30,
      "outputs": [
        {
          "output_type": "display_data",
          "data": {
            "text/plain": [
              "<Figure size 400x400 with 1 Axes>"
            ],
            "image/png": "[encoded data removed]"
          },
          "metadata": {}
        }
      ]
    },
    {
      "cell_type": "markdown",
      "source": [
        "## Challenge 4. Which brands sell the most products?"
      ],
      "metadata": {
        "id": "lO2HC3vYzBB3"
      }
    },
    {
      "cell_type": "code",
      "source": [
        "orderlines_cl[\"brand\"] = orderlines_cl[\"sku\"].str[0:3]"
      ],
      "metadata": {
        "id": "oSHj4nZxy_Vu"
      },
      "execution_count": 31,
      "outputs": []
    },
    {
      "cell_type": "code",
      "source": [
        "orderlines_brands_df = orderlines_cl.merge(brands, how=\"left\", left_on=\"brand\", right_on=\"short\")"
      ],
      "metadata": {
        "id": "ciZyJa2VPcK3"
      },
      "execution_count": 32,
      "outputs": []
    },
    {
      "cell_type": "code",
      "source": [
        "orderlines_cl"
      ],
      "metadata": {
        "id": "rPhrXeeDryI_",
        "outputId": "132b0fee-caa9-4436-cd96-324a3004a463",
        "colab": {
          "base_uri": "https://localhost:8080/",
          "height": 423
        }
      },
      "execution_count": 33,
      "outputs": [
        {
          "output_type": "execute_result",
          "data": {
            "text/plain": [
              "             id  id_order  product_id  product_quantity      sku  unit_price  \\\n",
              "0       1119109    299539           0                 1  OTT0133       18.99   \n",
              "1       1119110    299540           0                 1  LGE0043      399.00   \n",
              "2       1119111    299541           0                 1  PAR0071      474.05   \n",
              "3       1119112    299542           0                 1  WDT0315       68.39   \n",
              "4       1119113    299543           0                 1  JBL0104       23.74   \n",
              "...         ...       ...         ...               ...      ...         ...   \n",
              "216245  1650199    527398           0                 1  JBL0122       42.99   \n",
              "216246  1650200    527399           0                 1  PAC0653      141.58   \n",
              "216247  1650201    527400           0                 2  APP0698        9.99   \n",
              "216248  1650202    527388           0                 1  BEZ0204       19.99   \n",
              "216249  1650203    527401           0                 1  APP0927       13.99   \n",
              "\n",
              "                       date brand  \n",
              "0       2017-01-01 00:07:19   OTT  \n",
              "1       2017-01-01 00:19:45   LGE  \n",
              "2       2017-01-01 00:20:57   PAR  \n",
              "3       2017-01-01 00:51:40   WDT  \n",
              "4       2017-01-01 01:06:38   JBL  \n",
              "...                     ...   ...  \n",
              "216245  2018-03-14 13:57:25   JBL  \n",
              "216246  2018-03-14 13:57:34   PAC  \n",
              "216247  2018-03-14 13:57:41   APP  \n",
              "216248  2018-03-14 13:58:01   BEZ  \n",
              "216249  2018-03-14 13:58:36   APP  \n",
              "\n",
              "[216250 rows x 8 columns]"
            ],
            "text/html": [
              "\n",
              "  <div id=\"df-1cf2044b-d2d1-4b93-ad18-f2d756406dbe\">\n",
              "    <div class=\"colab-df-container\">\n",
              "      <div>\n",
              "<style scoped>\n",
              "    .dataframe tbody tr th:only-of-type {\n",
              "        vertical-align: middle;\n",
              "    }\n",
              "\n",
              "    .dataframe tbody tr th {\n",
              "        vertical-align: top;\n",
              "    }\n",
              "\n",
              "    .dataframe thead th {\n",
              "        text-align: right;\n",
              "    }\n",
              "</style>\n",
              "<table border=\"1\" class=\"dataframe\">\n",
              "  <thead>\n",
              "    <tr style=\"text-align: right;\">\n",
              "      <th></th>\n",
              "      <th>id</th>\n",
              "      <th>id_order</th>\n",
              "      <th>product_id</th>\n",
              "      <th>product_quantity</th>\n",
              "      <th>sku</th>\n",
              "      <th>unit_price</th>\n",
              "      <th>date</th>\n",
              "      <th>brand</th>\n",
              "    </tr>\n",
              "  </thead>\n",
              "  <tbody>\n",
              "    <tr>\n",
              "      <th>0</th>\n",
              "      <td>1119109</td>\n",
              "      <td>299539</td>\n",
              "      <td>0</td>\n",
              "      <td>1</td>\n",
              "      <td>OTT0133</td>\n",
              "      <td>18.99</td>\n",
              "      <td>2017-01-01 00:07:19</td>\n",
              "      <td>OTT</td>\n",
              "    </tr>\n",
              "    <tr>\n",
              "      <th>1</th>\n",
              "      <td>1119110</td>\n",
              "      <td>299540</td>\n",
              "      <td>0</td>\n",
              "      <td>1</td>\n",
              "      <td>LGE0043</td>\n",
              "      <td>399.00</td>\n",
              "      <td>2017-01-01 00:19:45</td>\n",
              "      <td>LGE</td>\n",
              "    </tr>\n",
              "    <tr>\n",
              "      <th>2</th>\n",
              "      <td>1119111</td>\n",
              "      <td>299541</td>\n",
              "      <td>0</td>\n",
              "      <td>1</td>\n",
              "      <td>PAR0071</td>\n",
              "      <td>474.05</td>\n",
              "      <td>2017-01-01 00:20:57</td>\n",
              "      <td>PAR</td>\n",
              "    </tr>\n",
              "    <tr>\n",
              "      <th>3</th>\n",
              "      <td>1119112</td>\n",
              "      <td>299542</td>\n",
              "      <td>0</td>\n",
              "      <td>1</td>\n",
              "      <td>WDT0315</td>\n",
              "      <td>68.39</td>\n",
              "      <td>2017-01-01 00:51:40</td>\n",
              "      <td>WDT</td>\n",
              "    </tr>\n",
              "    <tr>\n",
              "      <th>4</th>\n",
              "      <td>1119113</td>\n",
              "      <td>299543</td>\n",
              "      <td>0</td>\n",
              "      <td>1</td>\n",
              "      <td>JBL0104</td>\n",
              "      <td>23.74</td>\n",
              "      <td>2017-01-01 01:06:38</td>\n",
              "      <td>JBL</td>\n",
              "    </tr>\n",
              "    <tr>\n",
              "      <th>...</th>\n",
              "      <td>...</td>\n",
              "      <td>...</td>\n",
              "      <td>...</td>\n",
              "      <td>...</td>\n",
              "      <td>...</td>\n",
              "      <td>...</td>\n",
              "      <td>...</td>\n",
              "      <td>...</td>\n",
              "    </tr>\n",
              "    <tr>\n",
              "      <th>216245</th>\n",
              "      <td>1650199</td>\n",
              "      <td>527398</td>\n",
              "      <td>0</td>\n",
              "      <td>1</td>\n",
              "      <td>JBL0122</td>\n",
              "      <td>42.99</td>\n",
              "      <td>2018-03-14 13:57:25</td>\n",
              "      <td>JBL</td>\n",
              "    </tr>\n",
              "    <tr>\n",
              "      <th>216246</th>\n",
              "      <td>1650200</td>\n",
              "      <td>527399</td>\n",
              "      <td>0</td>\n",
              "      <td>1</td>\n",
              "      <td>PAC0653</td>\n",
              "      <td>141.58</td>\n",
              "      <td>2018-03-14 13:57:34</td>\n",
              "      <td>PAC</td>\n",
              "    </tr>\n",
              "    <tr>\n",
              "      <th>216247</th>\n",
              "      <td>1650201</td>\n",
              "      <td>527400</td>\n",
              "      <td>0</td>\n",
              "      <td>2</td>\n",
              "      <td>APP0698</td>\n",
              "      <td>9.99</td>\n",
              "      <td>2018-03-14 13:57:41</td>\n",
              "      <td>APP</td>\n",
              "    </tr>\n",
              "    <tr>\n",
              "      <th>216248</th>\n",
              "      <td>1650202</td>\n",
              "      <td>527388</td>\n",
              "      <td>0</td>\n",
              "      <td>1</td>\n",
              "      <td>BEZ0204</td>\n",
              "      <td>19.99</td>\n",
              "      <td>2018-03-14 13:58:01</td>\n",
              "      <td>BEZ</td>\n",
              "    </tr>\n",
              "    <tr>\n",
              "      <th>216249</th>\n",
              "      <td>1650203</td>\n",
              "      <td>527401</td>\n",
              "      <td>0</td>\n",
              "      <td>1</td>\n",
              "      <td>APP0927</td>\n",
              "      <td>13.99</td>\n",
              "      <td>2018-03-14 13:58:36</td>\n",
              "      <td>APP</td>\n",
              "    </tr>\n",
              "  </tbody>\n",
              "</table>\n",
              "<p>216250 rows × 8 columns</p>\n",
              "</div>\n",
              "      <button class=\"colab-df-convert\" onclick=\"convertToInteractive('df-1cf2044b-d2d1-4b93-ad18-f2d756406dbe')\"\n",
              "              title=\"Convert this dataframe to an interactive table.\"\n",
              "              style=\"display:none;\">\n",
              "        \n",
              "  <svg xmlns=\"http://www.w3.org/2000/svg\" height=\"24px\"viewBox=\"0 0 24 24\"\n",
              "       width=\"24px\">\n",
              "    <path d=\"M0 0h24v24H0V0z\" fill=\"none\"/>\n",
              "    <path d=\"M18.56 5.44l.94 2.06.94-2.06 2.06-.94-2.06-.94-.94-2.06-.94 2.06-2.06.94zm-11 1L8.5 8.5l.94-2.06 2.06-.94-2.06-.94L8.5 2.5l-.94 2.06-2.06.94zm10 10l.94 2.06.94-2.06 2.06-.94-2.06-.94-.94-2.06-.94 2.06-2.06.94z\"/><path d=\"M17.41 7.96l-1.37-1.37c-.4-.4-.92-.59-1.43-.59-.52 0-1.04.2-1.43.59L10.3 9.45l-7.72 7.72c-.78.78-.78 2.05 0 2.83L4 21.41c.39.39.9.59 1.41.59.51 0 1.02-.2 1.41-.59l7.78-7.78 2.81-2.81c.8-.78.8-2.07 0-2.86zM5.41 20L4 18.59l7.72-7.72 1.47 1.35L5.41 20z\"/>\n",
              "  </svg>\n",
              "      </button>\n",
              "      \n",
              "  <style>\n",
              "    .colab-df-container {\n",
              "      display:flex;\n",
              "      flex-wrap:wrap;\n",
              "      gap: 12px;\n",
              "    }\n",
              "\n",
              "    .colab-df-convert {\n",
              "      background-color: #E8F0FE;\n",
              "      border: none;\n",
              "      border-radius: 50%;\n",
              "      cursor: pointer;\n",
              "      display: none;\n",
              "      fill: #1967D2;\n",
              "      height: 32px;\n",
              "      padding: 0 0 0 0;\n",
              "      width: 32px;\n",
              "    }\n",
              "\n",
              "    .colab-df-convert:hover {\n",
              "      background-color: #E2EBFA;\n",
              "      box-shadow: 0px 1px 2px rgba(60, 64, 67, 0.3), 0px 1px 3px 1px rgba(60, 64, 67, 0.15);\n",
              "      fill: #174EA6;\n",
              "    }\n",
              "\n",
              "    [theme=dark] .colab-df-convert {\n",
              "      background-color: #3B4455;\n",
              "      fill: #D2E3FC;\n",
              "    }\n",
              "\n",
              "    [theme=dark] .colab-df-convert:hover {\n",
              "      background-color: #434B5C;\n",
              "      box-shadow: 0px 1px 3px 1px rgba(0, 0, 0, 0.15);\n",
              "      filter: drop-shadow(0px 1px 2px rgba(0, 0, 0, 0.3));\n",
              "      fill: #FFFFFF;\n",
              "    }\n",
              "  </style>\n",
              "\n",
              "      <script>\n",
              "        const buttonEl =\n",
              "          document.querySelector('#df-1cf2044b-d2d1-4b93-ad18-f2d756406dbe button.colab-df-convert');\n",
              "        buttonEl.style.display =\n",
              "          google.colab.kernel.accessAllowed ? 'block' : 'none';\n",
              "\n",
              "        async function convertToInteractive(key) {\n",
              "          const element = document.querySelector('#df-1cf2044b-d2d1-4b93-ad18-f2d756406dbe');\n",
              "          const dataTable =\n",
              "            await google.colab.kernel.invokeFunction('convertToInteractive',\n",
              "                                                     [key], {});\n",
              "          if (!dataTable) return;\n",
              "\n",
              "          const docLinkHtml = 'Like what you see? Visit the ' +\n",
              "            '<a target=\"_blank\" href=https://colab.research.google.com/notebooks/data_table.ipynb>data table notebook</a>'\n",
              "            + ' to learn more about interactive tables.';\n",
              "          element.innerHTML = '';\n",
              "          dataTable['output_type'] = 'display_data';\n",
              "          await google.colab.output.renderOutput(dataTable, element);\n",
              "          const docLink = document.createElement('div');\n",
              "          docLink.innerHTML = docLinkHtml;\n",
              "          element.appendChild(docLink);\n",
              "        }\n",
              "      </script>\n",
              "    </div>\n",
              "  </div>\n",
              "  "
            ]
          },
          "metadata": {},
          "execution_count": 33
        }
      ]
    },
    {
      "cell_type": "code",
      "source": [
        "(\n",
        "    orderlines_brands_df\n",
        "    .groupby(\"long\")[\"product_quantity\"]\n",
        "    .sum()\n",
        "    .nlargest(10)\n",
        ")"
      ],
      "metadata": {
        "id": "-VehvG0W5sdd",
        "colab": {
          "base_uri": "https://localhost:8080/"
        },
        "outputId": "6b2ac10b-f3f4-4dec-b8c4-98a39e66b652"
      },
      "execution_count": 34,
      "outputs": [
        {
          "output_type": "execute_result",
          "data": {
            "text/plain": [
              "long\n",
              "Apple              58210\n",
              "OWC                12069\n",
              "Western Digital     9821\n",
              "Pack                8004\n",
              "Crucial             7955\n",
              "Belkin              7659\n",
              "Wacom               7065\n",
              "LaCie               6787\n",
              "SanDisk             5351\n",
              "Satechi             5096\n",
              "Name: product_quantity, dtype: int64"
            ]
          },
          "metadata": {},
          "execution_count": 34
        }
      ]
    },
    {
      "cell_type": "markdown",
      "source": [
        "## Challenge 5. Plot a line chart for the amount of orders each hour of November 2017"
      ],
      "metadata": {
        "id": "Nwvy0aVmQl_v"
      }
    },
    {
      "cell_type": "code",
      "source": [
        "orders_cl[\"created_date\"] = pd.to_datetime(orders_cl[\"created_date\"])"
      ],
      "metadata": {
        "id": "aONEENB79QPn"
      },
      "execution_count": 35,
      "outputs": []
    },
    {
      "cell_type": "code",
      "source": [
        "november_2017_df = orders_cl.loc[orders_cl[\"created_date\"].between(\"2017-11-01\", \"2017-11-30\"), :]"
      ],
      "metadata": {
        "id": "19kNToXYxlBr"
      },
      "execution_count": 36,
      "outputs": []
    },
    {
      "cell_type": "code",
      "source": [
        "(\n",
        "    november_2017_df\n",
        "    .resample(\"1H\", on=\"created_date\")[\"order_id\"]\n",
        "    .count()\n",
        "    .plot(figsize=(10, 5), fontsize=8)\n",
        ");"
      ],
      "metadata": {
        "id": "6StJWvzS0JQ0",
        "colab": {
          "base_uri": "https://localhost:8080/",
          "height": 496
        },
        "outputId": "bd3291c1-952c-4f13-9ccf-0fe6ba96cc35"
      },
      "execution_count": 38,
      "outputs": [
        {
          "output_type": "display_data",
          "data": {
            "text/plain": [
              "<Figure size 1000x500 with 1 Axes>"
            ],
            "image/png": "[encoded data removed]"
          },
          "metadata": {}
        }
      ]
    }
  ]
}